{
 "cells": [
  {
   "cell_type": "markdown",
   "id": "237f6344",
   "metadata": {},
   "source": [
    "### Importing Libraries"
   ]
  },
  {
   "cell_type": "code",
   "execution_count": 1,
   "id": "6d15951c",
   "metadata": {},
   "outputs": [],
   "source": [
    "import numpy as np\n",
    "import pandas as pd\n",
    "from sklearn.model_selection import train_test_split\n",
    "from sklearn.utils import resample\n",
    "from sklearn.preprocessing import StandardScaler\n",
    "from sklearn.metrics import classification_report,accuracy_score,\\\n",
    "log_loss,confusion_matrix\n",
    "import math\n",
    "import warnings\n",
    "warnings.filterwarnings('ignore')"
   ]
  },
  {
   "cell_type": "markdown",
   "id": "129571b7",
   "metadata": {},
   "source": [
    "### Reading Data"
   ]
  },
  {
   "cell_type": "code",
   "execution_count": 2,
   "id": "5d7d6abe",
   "metadata": {},
   "outputs": [],
   "source": [
    "df=pd.read_csv(\"bank.xls\")"
   ]
  },
  {
   "cell_type": "code",
   "execution_count": 3,
   "id": "e49958d7",
   "metadata": {},
   "outputs": [],
   "source": [
    "df.drop(['ID'],axis=1,inplace=True)"
   ]
  },
  {
   "cell_type": "markdown",
   "id": "279e9289",
   "metadata": {},
   "source": [
    "### Downsampling Data"
   ]
  },
  {
   "cell_type": "code",
   "execution_count": 4,
   "id": "4c874548",
   "metadata": {},
   "outputs": [],
   "source": [
    "one_class=df[df['Personal Loan']==1]\n",
    "zero_class=df[df['Personal Loan']==0]"
   ]
  },
  {
   "cell_type": "code",
   "execution_count": 5,
   "id": "c27d95f4",
   "metadata": {},
   "outputs": [],
   "source": [
    "zero_downsample = resample(zero_class,\n",
    "             replace=True,\n",
    "             n_samples=len(one_class),\n",
    "             random_state=42)"
   ]
  },
  {
   "cell_type": "code",
   "execution_count": 6,
   "id": "332384bb",
   "metadata": {},
   "outputs": [],
   "source": [
    "data=pd.concat([zero_downsample,one_class])"
   ]
  },
  {
   "cell_type": "code",
   "execution_count": 7,
   "id": "3917281b",
   "metadata": {},
   "outputs": [],
   "source": [
    "X=data.drop(['Personal Loan'],axis=1).values\n",
    "Y=data['Personal Loan'].values"
   ]
  },
  {
   "cell_type": "markdown",
   "id": "831c3985",
   "metadata": {},
   "source": [
    "### Splitting Data"
   ]
  },
  {
   "cell_type": "code",
   "execution_count": 8,
   "id": "88ec055f",
   "metadata": {},
   "outputs": [],
   "source": [
    "X_train,X_test, y_train, y_test = train_test_split(X, Y, test_size=0.2, random_state=42)"
   ]
  },
  {
   "cell_type": "code",
   "execution_count": 9,
   "id": "9f27392f",
   "metadata": {},
   "outputs": [
    {
     "data": {
      "text/plain": [
       "(768, 12)"
      ]
     },
     "execution_count": 9,
     "metadata": {},
     "output_type": "execute_result"
    }
   ],
   "source": [
    "X_train.shape"
   ]
  },
  {
   "cell_type": "code",
   "execution_count": 10,
   "id": "15e3a657",
   "metadata": {},
   "outputs": [],
   "source": [
    "sc=StandardScaler()"
   ]
  },
  {
   "cell_type": "code",
   "execution_count": 11,
   "id": "16fcd8b6",
   "metadata": {},
   "outputs": [],
   "source": [
    "X_train=sc.fit_transform(X_train)\n",
    "X_test=sc.transform(X_test)"
   ]
  },
  {
   "cell_type": "markdown",
   "id": "420e9524",
   "metadata": {},
   "source": [
    "### Particle Swarm Optimisation"
   ]
  },
  {
   "cell_type": "code",
   "execution_count": 12,
   "id": "33c2b75d",
   "metadata": {},
   "outputs": [],
   "source": [
    "import numpy as np\n",
    "from sklearn.metrics import log_loss, accuracy_score\n",
    "\n",
    "\n",
    "class ParticleSwarmOptimization:\n",
    "\n",
    "    def __init__(self, X_train,y_train, num_particles=30, hidden_layer=10):\n",
    "        self.X_train = X_train\n",
    "        self.y_train = y_train\n",
    "        self.num_particles = num_particles\n",
    "        self.hidden_layer = hidden_layer\n",
    "        self.input_layer = X_train.shape[1]\n",
    "        self.output_layer = 1\n",
    "        self.weights = self.input_layer*self.hidden_layer+self.hidden_layer+self.hidden_layer*self.output_layer+self.output_layer\n",
    "        self.positions = np.random.rand(self.num_particles, self.weights)*2-1\n",
    "        self.velocities = np.random.rand(self.num_particles, self.weights)*2-1\n",
    "        self.personal_bests = self.positions.copy()\n",
    "        self.w = 0.7\n",
    "        self.c1 = self.c2 = 2\n",
    "        self.best_weights=None\n",
    "\n",
    "    def sigmoid(self, x):\n",
    "        return 1/(1 + np.exp(-x))\n",
    "\n",
    "    def tanh(self, x):\n",
    "        return (np.exp(x) - np.exp(-x)) / (np.exp(x) + np.exp(-x))\n",
    "\n",
    "    def relu(self, x):\n",
    "        return np.maximum(0, x)\n",
    "\n",
    "    def forward(self, inputs, weights):\n",
    "        weight1 = np.reshape(weights[:self.hidden_layer*self.input_layer], (self.hidden_layer, self.input_layer))\n",
    "        bias1 = np.reshape(weights[self.hidden_layer*self.input_layer:self.hidden_layer*self.input_layer+self.hidden_layer], (self.output_layer, self.hidden_layer))\n",
    "        weight2 = np.reshape(weights[self.hidden_layer*self.input_layer+self.hidden_layer:-1], (self.output_layer, self.hidden_layer))\n",
    "        bias2 = np.reshape(weights[-1], (self.output_layer, self.output_layer))\n",
    "\n",
    "        A0 = inputs\n",
    "        Z1 = inputs.dot(weight1.T)+bias1\n",
    "        A1 = self.relu(Z1)\n",
    "        Z2 = A1.dot(weight2.T)+bias2\n",
    "        A2 = self.sigmoid(Z2)\n",
    "        y_pred = np.round(A2)\n",
    "\n",
    "        return y_pred\n",
    "\n",
    "    def fitness_function(self, inputs, positions, y_train):\n",
    "        fitness = []\n",
    "        for position in positions:\n",
    "            y_pred = self.forward(inputs, position)\n",
    "            loss = log_loss(y_train, y_pred)\n",
    "            fitness.append(loss)\n",
    "\n",
    "        return fitness\n",
    "\n",
    "    def find_Gbest(self, inputs, positions, y_train):\n",
    "        gbest = 0\n",
    "        gbest_index = -1\n",
    "\n",
    "        for i in range(self.num_particles):\n",
    "            temp = accuracy_score(y_train, self.forward(inputs, positions[i]))\n",
    "            if temp > gbest:\n",
    "                gbest = temp\n",
    "                gbest_index = i\n",
    "\n",
    "        return gbest_index\n",
    "\n",
    "    def compute_velocities(self, positions, velocities, personal_bests):\n",
    "        global_best = positions[self.find_Gbest(self.X_train, positions, self.y_train)]\n",
    "\n",
    "        new_velocities = self.w*velocities + self.c1*np.random.rand()*(personal_bests-positions) \\\n",
    "                       + self.c2*np.random.rand()*(global_best-positions)\n",
    "\n",
    "        return new_velocities\n",
    "\n",
    "    def compute_new_positions(self, positions, velocities, personal_bests):\n",
    "        new_positions = positions + self.compute_velocities(positions, velocities, personal_bests)\n",
    "        new_personal_bests = personal_bests\n",
    "\n",
    "        for i in range(len(positions)):\n",
    "            old_fitness = accuracy_score(self.y_train, self.forward(self.X_train, positions[i]))\n",
    "            new_fitness = accuracy_score(self.y_train, self.forward(self.X_train, new_positions[i]))\n",
    "\n",
    "            if old_fitness < new_fitness:\n",
    "                new_personal_bests[i] = new_positions[i]\n",
    "          \n",
    "        return new_positions, new_personal_bests\n",
    "                \n",
    "    def train(self, num_iterations):\n",
    "        for i in range(num_iterations):\n",
    "            fitness = self.fitness_function(self.X_train, self.positions, self.y_train)\n",
    "            personal_best_fitness = self.fitness_function(self.X_train, self.personal_bests, self.y_train)\n",
    "\n",
    "            for j in range(self.num_particles):\n",
    "                if fitness[j] < personal_best_fitness[j]:\n",
    "                    self.personal_bests[j] = self.positions[j]\n",
    "\n",
    "            self.positions, self.personal_bests = self.compute_new_positions(self.positions, self.velocities, self.personal_bests)\n",
    "            \n",
    "            print(f\"Iteration {i}\\nGlobal Best : {accuracy_score(y_train,self.forward(self.X_train,self.positions[self.find_Gbest(self.X_train, self.positions, self.y_train)]))}\")\n",
    "\n",
    "        best_index = self.find_Gbest(self.X_train, self.positions, self.y_train)\n",
    "        self.best_weights = self.positions[best_index]\n",
    "    \n",
    "    def predict(self,X_test):\n",
    "        prediction=self.forward(X_test,self.best_weights)\n",
    "        return prediction\n",
    "    \n",
    "    def reports(self,X_test,y_test):\n",
    "        prediction=self.forward(X_test,self.best_weights)\n",
    "        \n",
    "        print(f\"ACCURACY : {accuracy_score(y_test,prediction)}\\n\\n\\\n",
    "CLASSIFICATION REPORT :\\n {classification_report(y_test,prediction)}\")\n"
   ]
  },
  {
   "cell_type": "code",
   "execution_count": 13,
   "id": "8f3ec9a3",
   "metadata": {},
   "outputs": [],
   "source": [
    "pso=ParticleSwarmOptimization(X_train,y_train)"
   ]
  },
  {
   "cell_type": "code",
   "execution_count": 14,
   "id": "79aea76c",
   "metadata": {},
   "outputs": [
    {
     "name": "stdout",
     "output_type": "stream",
     "text": [
      "Iteration 0\n",
      "Global Best : 0.7434895833333334\n",
      "Iteration 1\n",
      "Global Best : 0.77734375\n",
      "Iteration 2\n",
      "Global Best : 0.8177083333333334\n",
      "Iteration 3\n",
      "Global Best : 0.83203125\n",
      "Iteration 4\n",
      "Global Best : 0.8177083333333334\n",
      "Iteration 5\n",
      "Global Best : 0.81640625\n",
      "Iteration 6\n",
      "Global Best : 0.8385416666666666\n",
      "Iteration 7\n",
      "Global Best : 0.8541666666666666\n",
      "Iteration 8\n",
      "Global Best : 0.83984375\n",
      "Iteration 9\n",
      "Global Best : 0.828125\n",
      "Iteration 10\n",
      "Global Best : 0.8372395833333334\n",
      "Iteration 11\n",
      "Global Best : 0.8307291666666666\n",
      "Iteration 12\n",
      "Global Best : 0.8489583333333334\n",
      "Iteration 13\n",
      "Global Best : 0.8450520833333334\n",
      "Iteration 14\n",
      "Global Best : 0.8463541666666666\n",
      "Iteration 15\n",
      "Global Best : 0.8489583333333334\n",
      "Iteration 16\n",
      "Global Best : 0.8528645833333334\n",
      "Iteration 17\n",
      "Global Best : 0.85546875\n",
      "Iteration 18\n",
      "Global Best : 0.8645833333333334\n",
      "Iteration 19\n",
      "Global Best : 0.8580729166666666\n",
      "Iteration 20\n",
      "Global Best : 0.8619791666666666\n",
      "Iteration 21\n",
      "Global Best : 0.8541666666666666\n",
      "Iteration 22\n",
      "Global Best : 0.84765625\n",
      "Iteration 23\n",
      "Global Best : 0.8658854166666666\n",
      "Iteration 24\n",
      "Global Best : 0.86328125\n",
      "Iteration 25\n",
      "Global Best : 0.859375\n",
      "Iteration 26\n",
      "Global Best : 0.8658854166666666\n",
      "Iteration 27\n",
      "Global Best : 0.8528645833333334\n",
      "Iteration 28\n",
      "Global Best : 0.859375\n",
      "Iteration 29\n",
      "Global Best : 0.8697916666666666\n"
     ]
    }
   ],
   "source": [
    "pso.train(30)"
   ]
  },
  {
   "cell_type": "code",
   "execution_count": 15,
   "id": "5717d6f8",
   "metadata": {},
   "outputs": [
    {
     "name": "stdout",
     "output_type": "stream",
     "text": [
      "ACCURACY : 0.8854166666666666\n",
      "\n",
      "CLASSIFICATION REPORT :\n",
      "               precision    recall  f1-score   support\n",
      "\n",
      "           0       0.89      0.85      0.87        86\n",
      "           1       0.88      0.92      0.90       106\n",
      "\n",
      "    accuracy                           0.89       192\n",
      "   macro avg       0.89      0.88      0.88       192\n",
      "weighted avg       0.89      0.89      0.89       192\n",
      "\n"
     ]
    }
   ],
   "source": [
    "pso.reports(X_test,y_test)"
   ]
  },
  {
   "cell_type": "code",
   "execution_count": null,
   "id": "61c0ed8e",
   "metadata": {},
   "outputs": [],
   "source": []
  },
  {
   "cell_type": "code",
   "execution_count": null,
   "id": "3df3bc23",
   "metadata": {},
   "outputs": [],
   "source": []
  },
  {
   "cell_type": "code",
   "execution_count": null,
   "id": "58b85cba",
   "metadata": {},
   "outputs": [],
   "source": []
  },
  {
   "cell_type": "code",
   "execution_count": null,
   "id": "87b1203f",
   "metadata": {},
   "outputs": [],
   "source": []
  },
  {
   "cell_type": "code",
   "execution_count": null,
   "id": "93ec61a7",
   "metadata": {},
   "outputs": [],
   "source": []
  },
  {
   "cell_type": "code",
   "execution_count": null,
   "id": "7c12ddcd",
   "metadata": {},
   "outputs": [],
   "source": []
  },
  {
   "cell_type": "code",
   "execution_count": null,
   "id": "9258fe46",
   "metadata": {},
   "outputs": [],
   "source": [
    "\n"
   ]
  }
 ],
 "metadata": {
  "kernelspec": {
   "display_name": "Python 3 (ipykernel)",
   "language": "python",
   "name": "python3"
  },
  "language_info": {
   "codemirror_mode": {
    "name": "ipython",
    "version": 3
   },
   "file_extension": ".py",
   "mimetype": "text/x-python",
   "name": "python",
   "nbconvert_exporter": "python",
   "pygments_lexer": "ipython3",
   "version": "3.10.7"
  }
 },
 "nbformat": 4,
 "nbformat_minor": 5
}
