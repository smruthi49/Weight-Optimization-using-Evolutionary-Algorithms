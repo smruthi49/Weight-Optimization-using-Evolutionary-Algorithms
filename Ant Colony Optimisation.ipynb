{
 "cells": [
  {
   "cell_type": "markdown",
   "id": "e85de90b",
   "metadata": {},
   "source": [
    "### Importing Libraries"
   ]
  },
  {
   "cell_type": "code",
   "execution_count": 1,
   "id": "6d15951c",
   "metadata": {},
   "outputs": [],
   "source": [
    "import numpy as np\n",
    "import pandas as pd\n",
    "from sklearn.model_selection import train_test_split\n",
    "from sklearn.utils import resample\n",
    "from sklearn.preprocessing import StandardScaler\n",
    "from sklearn.metrics import classification_report,accuracy_score,\\\n",
    "log_loss,confusion_matrix\n",
    "import math\n",
    "import warnings\n",
    "warnings.filterwarnings('ignore')"
   ]
  },
  {
   "cell_type": "markdown",
   "id": "0336cbfe",
   "metadata": {},
   "source": [
    "### Reading Data"
   ]
  },
  {
   "cell_type": "code",
   "execution_count": 2,
   "id": "5d7d6abe",
   "metadata": {},
   "outputs": [],
   "source": [
    "df=pd.read_csv(\"bank.xls\")"
   ]
  },
  {
   "cell_type": "code",
   "execution_count": 3,
   "id": "e49958d7",
   "metadata": {},
   "outputs": [],
   "source": [
    "df.drop(['ID'],axis=1,inplace=True)"
   ]
  },
  {
   "cell_type": "markdown",
   "id": "a56623e5",
   "metadata": {},
   "source": [
    "### Downsampling Data"
   ]
  },
  {
   "cell_type": "code",
   "execution_count": 4,
   "id": "4c874548",
   "metadata": {},
   "outputs": [],
   "source": [
    "one_class=df[df['Personal Loan']==1]\n",
    "zero_class=df[df['Personal Loan']==0]"
   ]
  },
  {
   "cell_type": "code",
   "execution_count": 5,
   "id": "c27d95f4",
   "metadata": {},
   "outputs": [],
   "source": [
    "zero_downsample = resample(zero_class,\n",
    "             replace=True,\n",
    "             n_samples=len(one_class),\n",
    "             random_state=42)"
   ]
  },
  {
   "cell_type": "code",
   "execution_count": 6,
   "id": "332384bb",
   "metadata": {},
   "outputs": [],
   "source": [
    "data=pd.concat([zero_downsample,one_class])"
   ]
  },
  {
   "cell_type": "code",
   "execution_count": 7,
   "id": "3917281b",
   "metadata": {},
   "outputs": [],
   "source": [
    "X=data.drop(['Personal Loan'],axis=1).values\n",
    "Y=data['Personal Loan'].values"
   ]
  },
  {
   "cell_type": "markdown",
   "id": "90bd44c6",
   "metadata": {},
   "source": [
    "### Splitting Data"
   ]
  },
  {
   "cell_type": "code",
   "execution_count": 8,
   "id": "88ec055f",
   "metadata": {},
   "outputs": [],
   "source": [
    "X_train,X_test, y_train, y_test = train_test_split(X, Y, test_size=0.2, random_state=42)"
   ]
  },
  {
   "cell_type": "code",
   "execution_count": 9,
   "id": "9f27392f",
   "metadata": {},
   "outputs": [
    {
     "data": {
      "text/plain": [
       "(768, 12)"
      ]
     },
     "execution_count": 9,
     "metadata": {},
     "output_type": "execute_result"
    }
   ],
   "source": [
    "X_train.shape"
   ]
  },
  {
   "cell_type": "code",
   "execution_count": 10,
   "id": "15e3a657",
   "metadata": {},
   "outputs": [],
   "source": [
    "sc=StandardScaler()"
   ]
  },
  {
   "cell_type": "code",
   "execution_count": 11,
   "id": "16fcd8b6",
   "metadata": {},
   "outputs": [],
   "source": [
    "X_train=sc.fit_transform(X_train)\n",
    "X_test=sc.transform(X_test)"
   ]
  },
  {
   "cell_type": "markdown",
   "id": "c748e8c5",
   "metadata": {},
   "source": [
    "### Ant Colony Optimisation Algorithm for Weight Optimisation"
   ]
  },
  {
   "cell_type": "code",
   "execution_count": 12,
   "id": "6f17efee",
   "metadata": {},
   "outputs": [],
   "source": [
    "import numpy as np\n",
    "from sklearn.metrics import accuracy_score, log_loss\n",
    "\n",
    "class AntColonyOptimizer:\n",
    "    def __init__(self, X_train, y_train, num_ants=30, num_generations=30, hidden_layer=10):\n",
    "        self.X_train = X_train\n",
    "        self.y_train = y_train\n",
    "        self.num_ants = num_ants\n",
    "        self.num_generations = num_generations\n",
    "        self.hidden_layer = hidden_layer\n",
    "        self.input_layer = X_train.shape[1]\n",
    "        self.output_layer = 1\n",
    "        self.weights = (self.input_layer+1)*self.hidden_layer + (self.hidden_layer+1)*self.output_layer\n",
    "        self.weight_points = np.random.rand(self.weights, self.hidden_layer)\n",
    "        self.initial_ph = 1 / (self.input_layer + self.hidden_layer + self.output_layer)\n",
    "        self.pheromones = np.ones((self.weights, self.hidden_layer)) * self.initial_ph\n",
    "        self.inputs = X_train\n",
    "\n",
    "    def sigmoid(self, x):\n",
    "        return 1 / (1 + np.exp(-x))\n",
    "\n",
    "    def prob_matrix(self, pheromone):\n",
    "        p = []\n",
    "        for i in range(len(pheromone)):\n",
    "            p.append(pheromone[i] / np.sum(pheromone))\n",
    "        return p\n",
    "\n",
    "    def generate_ant(self):\n",
    "        ant = []\n",
    "        temp_memory = []\n",
    "        for i in range(len(self.pheromones)):\n",
    "            num = 0\n",
    "            prob = self.prob_matrix(self.pheromones[i])\n",
    "            if all(p == prob[0] for p in prob):\n",
    "                num = np.random.randint(low=0, high=len(prob))\n",
    "\n",
    "            else:\n",
    "                num = np.where(prob == np.max(prob))[0][0]\n",
    "            ant.append(self.weight_points[i][num])\n",
    "            temp_memory.append(num)\n",
    "        return ant, temp_memory\n",
    "\n",
    "    def update_pheromones(self, ants):\n",
    "        pheromones_ = np.zeros_like(self.pheromones)\n",
    "        for ant in ants:\n",
    "            pheromones_ += ant['pheromones']\n",
    "        return pheromones_\n",
    "\n",
    "    def traverse(self, ant):\n",
    "        for i in range(len(self.pheromones)):\n",
    "            num = 0\n",
    "            prob = self.prob_matrix(self.pheromones[i])\n",
    "            num = np.where(prob == np.max(prob))[0][0]\n",
    "            ant['weights'][i] = self.weight_points[i][num]\n",
    "        return ant\n",
    "\n",
    "    def forward(self, inputs, weights):\n",
    "        weight1 = np.reshape(weights[:self.hidden_layer*self.input_layer], (self.hidden_layer, self.input_layer))\n",
    "        bias1 = np.reshape(weights[self.hidden_layer*self.input_layer:self.hidden_layer*self.input_layer+self.hidden_layer], (self.output_layer, self.hidden_layer))\n",
    "        weight2 = np.reshape(weights[self.hidden_layer*self.input_layer+self.hidden_layer:-1], (self.output_layer, self.hidden_layer))\n",
    "        bias2 = np.reshape(weights[-1], (self.output_layer, self.output_layer))\n",
    "\n",
    "        A0 = inputs\n",
    "        Z1 = inputs.dot(weight1.T) + bias1\n",
    "        A1 = Z1\n",
    "        Z2 = A1.dot(weight2.T) + bias2\n",
    "        A2 = self.sigmoid(Z2)\n",
    "        y_pred = np.round(A2)\n",
    "\n",
    "        return y_pred\n",
    "\n",
    "    def optimize(self):\n",
    "        # Initialize ants\n",
    "        ants = []\n",
    "        for i in range(self.num_ants):\n",
    "            ant = {'weights': np.zeros(self.weights), 'pheromones': np.zeros_like(self.pheromones)}\n",
    "            ants.append(ant)\n",
    "\n",
    "        # Iterate over generations\n",
    "        for gen in range(self.num_generations):\n",
    "            # Generate ants\n",
    "            for ant in ants:\n",
    "                ant['weights'], ant['memory'] = self.generate_ant()\n",
    "            \n",
    "                    # Evaluate ants and update pheromones\n",
    "            for ant in ants:\n",
    "                y_pred = self.forward(self.X_train, ant['weights'])\n",
    "                loss = log_loss(self.y_train, y_pred)\n",
    "                ant['fitness'] = loss\n",
    "                ant['pheromones'] += 1 / loss\n",
    "\n",
    "            self.pheromones = self.update_pheromones(ants)\n",
    "\n",
    "            # Traverse ants\n",
    "            for ant in ants:\n",
    "                ant = self.traverse(ant)\n",
    "\n",
    "            # Print current generation's best ant\n",
    "            best_ant = min(ants, key=lambda x: x['fitness'])\n",
    "            print(f\"Generation {gen + 1}: Best loss = {best_ant['fitness']}\")\n",
    "            #Acc:{accuracy_score(y_train,forward(inputs,best_ant['weights']))}\")\n",
    "\n",
    "        # Select the best ant from the final generation\n",
    "        best_ant = min(ants, key=lambda x: x['fitness'])\n",
    "        y_pred = self.forward(self.X_train, best_ant['weights'])\n",
    "        accuracy = accuracy_score(self.y_train, y_pred)\n",
    "        print(f\"Best accuracy = {accuracy}\")\n",
    "\n",
    "        self.trained_weights = best_ant['weights']\n",
    "    def predict(self,X_test):\n",
    "        prediction=self.forward(X_test,self.trained_weights)\n",
    "        return prediction\n",
    "    \n",
    "    def reports(self,X_test,y_test):\n",
    "        prediction=self.forward(X_test,self.trained_weights)\n",
    "        \n",
    "        print(f\"ACCURACY : {accuracy_score(y_test,prediction)}\\n\\n\\\n",
    "CLASSIFICATION REPORT :\\n {classification_report(y_test,prediction)}\")\n",
    "\n"
   ]
  },
  {
   "cell_type": "code",
   "execution_count": 13,
   "id": "61c0ed8e",
   "metadata": {},
   "outputs": [],
   "source": [
    "aconn=AntColonyOptimizer(X_train,y_train)"
   ]
  },
  {
   "cell_type": "code",
   "execution_count": 14,
   "id": "3df3bc23",
   "metadata": {},
   "outputs": [
    {
     "name": "stdout",
     "output_type": "stream",
     "text": [
      "Generation 1: Best loss = 10.184209356039611\n",
      "Generation 2: Best loss = 9.621027271834656\n",
      "Generation 3: Best loss = 9.621027271834656\n",
      "Generation 4: Best loss = 9.80875463323631\n",
      "Generation 5: Best loss = 9.949550154287548\n",
      "Generation 6: Best loss = 9.761822792885896\n",
      "Generation 7: Best loss = 10.325004877090851\n",
      "Generation 8: Best loss = 9.855686473586722\n",
      "Generation 9: Best loss = 9.80875463323631\n",
      "Generation 10: Best loss = 9.574095431484244\n",
      "Generation 11: Best loss = 9.433299910433005\n",
      "Generation 12: Best loss = 10.653527759543742\n",
      "Generation 13: Best loss = 9.574095431484244\n",
      "Generation 14: Best loss = 9.574095431484244\n",
      "Generation 15: Best loss = 10.371936717441264\n",
      "Generation 16: Best loss = 9.19864070868094\n",
      "Generation 17: Best loss = 9.902618313937134\n",
      "Generation 18: Best loss = 9.99648199463796\n",
      "Generation 19: Best loss = 10.371936717441264\n",
      "Generation 20: Best loss = 10.512732238492502\n",
      "Generation 21: Best loss = 10.27807303674044\n",
      "Generation 22: Best loss = 10.27807303674044\n",
      "Generation 23: Best loss = 9.621027271834656\n",
      "Generation 24: Best loss = 9.902618313937134\n",
      "Generation 25: Best loss = 9.855686473586722\n",
      "Generation 26: Best loss = 10.418868557791678\n",
      "Generation 27: Best loss = 9.386368070082591\n",
      "Generation 28: Best loss = 9.808754633236308\n",
      "Generation 29: Best loss = 8.870117826228048\n",
      "Generation 30: Best loss = 9.433299910433005\n",
      "Best accuracy = 0.6731770833333334\n"
     ]
    }
   ],
   "source": [
    "aconn.optimize()"
   ]
  },
  {
   "cell_type": "code",
   "execution_count": 15,
   "id": "58b85cba",
   "metadata": {},
   "outputs": [
    {
     "name": "stdout",
     "output_type": "stream",
     "text": [
      "ACCURACY : 0.7239583333333334\n",
      "\n",
      "CLASSIFICATION REPORT :\n",
      "               precision    recall  f1-score   support\n",
      "\n",
      "           0       0.69      0.69      0.69        86\n",
      "           1       0.75      0.75      0.75       106\n",
      "\n",
      "    accuracy                           0.72       192\n",
      "   macro avg       0.72      0.72      0.72       192\n",
      "weighted avg       0.72      0.72      0.72       192\n",
      "\n"
     ]
    }
   ],
   "source": [
    "aconn.reports(X_test,y_test)"
   ]
  },
  {
   "cell_type": "code",
   "execution_count": null,
   "id": "87b1203f",
   "metadata": {},
   "outputs": [],
   "source": []
  },
  {
   "cell_type": "code",
   "execution_count": null,
   "id": "93ec61a7",
   "metadata": {},
   "outputs": [],
   "source": []
  },
  {
   "cell_type": "code",
   "execution_count": null,
   "id": "7c12ddcd",
   "metadata": {},
   "outputs": [],
   "source": []
  },
  {
   "cell_type": "code",
   "execution_count": null,
   "id": "9258fe46",
   "metadata": {},
   "outputs": [],
   "source": [
    "\n"
   ]
  }
 ],
 "metadata": {
  "kernelspec": {
   "display_name": "Python 3 (ipykernel)",
   "language": "python",
   "name": "python3"
  },
  "language_info": {
   "codemirror_mode": {
    "name": "ipython",
    "version": 3
   },
   "file_extension": ".py",
   "mimetype": "text/x-python",
   "name": "python",
   "nbconvert_exporter": "python",
   "pygments_lexer": "ipython3",
   "version": "3.10.7"
  }
 },
 "nbformat": 4,
 "nbformat_minor": 5
}
