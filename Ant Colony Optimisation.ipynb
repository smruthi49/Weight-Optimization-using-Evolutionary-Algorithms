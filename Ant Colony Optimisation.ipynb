{
 "cells": [
  {
   "cell_type": "markdown",
   "id": "e85de90b",
   "metadata": {},
   "source": [
    "### Importing Libraries"
   ]
  },
  {
   "cell_type": "code",
   "execution_count": 1,
   "id": "6d15951c",
   "metadata": {},
   "outputs": [],
   "source": [
    "import numpy as np\n",
    "import pandas as pd\n",
    "from sklearn.model_selection import train_test_split\n",
    "from sklearn.utils import resample\n",
    "from sklearn.preprocessing import StandardScaler\n",
    "from sklearn.metrics import classification_report,accuracy_score,\\\n",
    "log_loss,confusion_matrix\n",
    "import math\n",
    "import warnings\n",
    "warnings.filterwarnings('ignore')"
   ]
  },
  {
   "cell_type": "markdown",
   "id": "0336cbfe",
   "metadata": {},
   "source": [
    "### Reading Data"
   ]
  },
  {
   "cell_type": "code",
   "execution_count": 2,
   "id": "5d7d6abe",
   "metadata": {},
   "outputs": [],
   "source": [
    "df=pd.read_csv(\"bank.xls\")"
   ]
  },
  {
   "cell_type": "code",
   "execution_count": 3,
   "id": "e49958d7",
   "metadata": {},
   "outputs": [],
   "source": [
    "df.drop(['ID'],axis=1,inplace=True)"
   ]
  },
  {
   "cell_type": "markdown",
   "id": "a56623e5",
   "metadata": {},
   "source": [
    "### Downsampling Data"
   ]
  },
  {
   "cell_type": "code",
   "execution_count": 4,
   "id": "4c874548",
   "metadata": {},
   "outputs": [],
   "source": [
    "one_class=df[df['Personal Loan']==1]\n",
    "zero_class=df[df['Personal Loan']==0]"
   ]
  },
  {
   "cell_type": "code",
   "execution_count": 5,
   "id": "c27d95f4",
   "metadata": {},
   "outputs": [],
   "source": [
    "zero_downsample = resample(zero_class,\n",
    "             replace=True,\n",
    "             n_samples=len(one_class),\n",
    "             random_state=42)"
   ]
  },
  {
   "cell_type": "code",
   "execution_count": 6,
   "id": "332384bb",
   "metadata": {},
   "outputs": [],
   "source": [
    "data=pd.concat([zero_downsample,one_class])"
   ]
  },
  {
   "cell_type": "code",
   "execution_count": 7,
   "id": "3917281b",
   "metadata": {},
   "outputs": [],
   "source": [
    "X=data.drop(['Personal Loan'],axis=1).values\n",
    "Y=data['Personal Loan'].values"
   ]
  },
  {
   "cell_type": "markdown",
   "id": "90bd44c6",
   "metadata": {},
   "source": [
    "### Splitting Data"
   ]
  },
  {
   "cell_type": "code",
   "execution_count": 8,
   "id": "88ec055f",
   "metadata": {},
   "outputs": [],
   "source": [
    "X_train,X_test, y_train, y_test = train_test_split(X, Y, test_size=0.2, random_state=42)"
   ]
  },
  {
   "cell_type": "code",
   "execution_count": 9,
   "id": "9f27392f",
   "metadata": {},
   "outputs": [
    {
     "data": {
      "text/plain": [
       "(768, 12)"
      ]
     },
     "execution_count": 9,
     "metadata": {},
     "output_type": "execute_result"
    }
   ],
   "source": [
    "X_train.shape"
   ]
  },
  {
   "cell_type": "code",
   "execution_count": 10,
   "id": "15e3a657",
   "metadata": {},
   "outputs": [],
   "source": [
    "sc=StandardScaler()"
   ]
  },
  {
   "cell_type": "code",
   "execution_count": 11,
   "id": "16fcd8b6",
   "metadata": {},
   "outputs": [],
   "source": [
    "X_train=sc.fit_transform(X_train)\n",
    "X_test=sc.transform(X_test)"
   ]
  },
  {
   "cell_type": "markdown",
   "id": "c748e8c5",
   "metadata": {},
   "source": [
    "### Ant Colony Optimisation Algorithm for Weight Optimisation"
   ]
  },
  {
   "cell_type": "code",
   "execution_count": 12,
   "id": "6f17efee",
   "metadata": {},
   "outputs": [],
   "source": [
    "import numpy as np\n",
    "from sklearn.metrics import accuracy_score, log_loss\n",
    "\n",
    "class AntColonyOptimizer:\n",
    "    def __init__(self, X_train, y_train, num_ants=30, num_generations=30, hidden_layer=10):\n",
    "        self.X_train = X_train\n",
    "        self.y_train = y_train\n",
    "        self.num_ants = num_ants\n",
    "        self.num_generations = num_generations\n",
    "        self.hidden_layer = hidden_layer\n",
    "        self.input_layer = X_train.shape[1]\n",
    "        self.output_layer = 1\n",
    "        self.weights = (self.input_layer+1)*self.hidden_layer + (self.hidden_layer+1)*self.output_layer\n",
    "        self.weight_points = np.random.rand(self.weights, self.hidden_layer)\n",
    "        self.initial_ph = 1 / (self.input_layer + self.hidden_layer + self.output_layer)\n",
    "        self.pheromones = np.ones((self.weights, self.hidden_layer)) * self.initial_ph\n",
    "        self.inputs = X_train\n",
    "\n",
    "    def sigmoid(self, x):\n",
    "        return 1 / (1 + np.exp(-x))\n",
    "\n",
    "    def prob_matrix(self, pheromone):\n",
    "        p = []\n",
    "        for i in range(len(pheromone)):\n",
    "            p.append(pheromone[i] / np.sum(pheromone))\n",
    "        return p\n",
    "\n",
    "    def generate_ant(self):\n",
    "        ant = []\n",
    "        temp_memory = []\n",
    "        for i in range(len(self.pheromones)):\n",
    "            num = 0\n",
    "            prob = self.prob_matrix(self.pheromones[i])\n",
    "            if all(p == prob[0] for p in prob):\n",
    "                num = np.random.randint(low=0, high=len(prob))\n",
    "\n",
    "            else:\n",
    "                num = np.where(prob == np.max(prob))[0][0]\n",
    "            ant.append(self.weight_points[i][num])\n",
    "            temp_memory.append(num)\n",
    "        return ant, temp_memory\n",
    "\n",
    "    def update_pheromones(self, ants):\n",
    "        pheromones_ = np.zeros_like(self.pheromones)\n",
    "        for ant in ants:\n",
    "            pheromones_ += ant['pheromones']\n",
    "        return pheromones_\n",
    "\n",
    "    def traverse(self, ant):\n",
    "        for i in range(len(self.pheromones)):\n",
    "            num = 0\n",
    "            prob = self.prob_matrix(self.pheromones[i])\n",
    "            num = np.where(prob == np.max(prob))[0][0]\n",
    "            ant['weights'][i] = self.weight_points[i][num]\n",
    "        return ant\n",
    "\n",
    "    def forward(self, inputs, weights):\n",
    "        weight1 = np.reshape(weights[:self.hidden_layer*self.input_layer], (self.hidden_layer, self.input_layer))\n",
    "        bias1 = np.reshape(weights[self.hidden_layer*self.input_layer:self.hidden_layer*self.input_layer+self.hidden_layer], (self.output_layer, self.hidden_layer))\n",
    "        weight2 = np.reshape(weights[self.hidden_layer*self.input_layer+self.hidden_layer:-1], (self.output_layer, self.hidden_layer))\n",
    "        bias2 = np.reshape(weights[-1], (self.output_layer, self.output_layer))\n",
    "\n",
    "        A0 = inputs\n",
    "        Z1 = inputs.dot(weight1.T) + bias1\n",
    "        A1 = Z1\n",
    "        Z2 = A1.dot(weight2.T) + bias2\n",
    "        A2 = self.sigmoid(Z2)\n",
    "        y_pred = np.round(A2)\n",
    "\n",
    "        return y_pred\n",
    "\n",
    "    def optimize(self):\n",
    "        # Initialize ants\n",
    "        ants = []\n",
    "        for i in range(self.num_ants):\n",
    "            ant = {'weights': np.zeros(self.weights), 'pheromones': np.zeros_like(self.pheromones)}\n",
    "            ants.append(ant)\n",
    "\n",
    "        # Iterate over generations\n",
    "        for gen in range(self.num_generations):\n",
    "            # Generate ants\n",
    "            for ant in ants:\n",
    "                ant['weights'], ant['memory'] = self.generate_ant()\n",
    "            \n",
    "                    # Evaluate ants and update pheromones\n",
    "            for ant in ants:\n",
    "                y_pred = self.forward(self.X_train, ant['weights'])\n",
    "                loss = log_loss(self.y_train, y_pred)\n",
    "                ant['fitness'] = loss\n",
    "                ant['pheromones'] += 1 / loss\n",
    "\n",
    "            self.pheromones = self.update_pheromones(ants)\n",
    "\n",
    "            # Traverse ants\n",
    "            for ant in ants:\n",
    "                ant = self.traverse(ant)\n",
    "\n",
    "            # Print current generation's best ant\n",
    "            best_ant = min(ants, key=lambda x: x['fitness'])\n",
    "            print(f\"Generation {gen + 1}: Best loss = {best_ant['fitness']}\")\n",
    "            #Acc:{accuracy_score(y_train,forward(inputs,best_ant['weights']))}\")\n",
    "\n",
    "        # Select the best ant from the final generation\n",
    "        best_ant = min(ants, key=lambda x: x['fitness'])\n",
    "        y_pred = self.forward(self.X_train, best_ant['weights'])\n",
    "        accuracy = accuracy_score(self.y_train, y_pred)\n",
    "        print(f\"Best accuracy = {accuracy}\")\n",
    "\n",
    "        self.trained_weights = best_ant['weights']\n",
    "        return self.trained_weights\n",
    "\n",
    "    def predict(self,X_test):\n",
    "        prediction=self.forward(X_test,self.trained_weights)\n",
    "        return prediction\n",
    "    \n",
    "    def reports(self,X_test,y_test):\n",
    "        prediction=self.forward(X_test,self.trained_weights)\n",
    "        \n",
    "        print(f\"ACCURACY : {accuracy_score(y_test,prediction)}\\n\\n\\\n",
    "CLASSIFICATION REPORT :\\n {classification_report(y_test,prediction)}\")\n",
    "\n"
   ]
  },
  {
   "cell_type": "code",
   "execution_count": 13,
   "id": "61c0ed8e",
   "metadata": {},
   "outputs": [],
   "source": [
    "aconn=AntColonyOptimizer(X_train,y_train)"
   ]
  },
  {
   "cell_type": "code",
   "execution_count": 14,
   "id": "3df3bc23",
   "metadata": {},
   "outputs": [
    {
     "name": "stdout",
     "output_type": "stream",
     "text": [
      "Generation 1: Best loss = 10.79432328059498\n",
      "Generation 2: Best loss = 10.231141196390025\n",
      "Generation 3: Best loss = 10.090345675338787\n",
      "Generation 4: Best loss = 10.137277515689199\n",
      "Generation 5: Best loss = 10.559664078842916\n",
      "Generation 6: Best loss = 10.606595919193328\n",
      "Generation 7: Best loss = 10.606595919193328\n",
      "Generation 8: Best loss = 9.761822792885896\n",
      "Generation 9: Best loss = 10.465800398142088\n",
      "Generation 10: Best loss = 10.559664078842916\n",
      "Generation 11: Best loss = 10.888186961295807\n",
      "Generation 12: Best loss = 10.278073036740437\n",
      "Generation 13: Best loss = 10.418868557791678\n",
      "Generation 14: Best loss = 10.841255120945393\n",
      "Generation 15: Best loss = 9.667959112185068\n",
      "Generation 16: Best loss = 10.32500487709085\n",
      "Generation 17: Best loss = 10.32500487709085\n",
      "Generation 18: Best loss = 10.32500487709085\n",
      "Generation 19: Best loss = 9.808754633236308\n",
      "Generation 20: Best loss = 10.559664078842916\n",
      "Generation 21: Best loss = 10.512732238492502\n",
      "Generation 22: Best loss = 10.418868557791678\n",
      "Generation 23: Best loss = 10.606595919193328\n",
      "Generation 24: Best loss = 10.27807303674044\n",
      "Generation 25: Best loss = 10.27807303674044\n",
      "Generation 26: Best loss = 10.418868557791678\n",
      "Generation 27: Best loss = 10.60659591919333\n",
      "Generation 28: Best loss = 10.559664078842916\n",
      "Generation 29: Best loss = 10.60659591919333\n",
      "Generation 30: Best loss = 10.46580039814209\n",
      "Best accuracy = 0.65625\n"
     ]
    },
    {
     "data": {
      "text/plain": [
       "[0.8573307853442478,\n",
       " 0.7906895728097917,\n",
       " 0.2249271994376103,\n",
       " 0.0009693375894579415,\n",
       " 0.4088427713093894,\n",
       " 0.3254279376327559,\n",
       " 0.9584781785620514,\n",
       " 0.23588609140916816,\n",
       " 0.2700190884046956,\n",
       " 0.865515587068999,\n",
       " 0.5013588843787355,\n",
       " 0.06896165969189816,\n",
       " 0.9759346661878922,\n",
       " 0.31974488832155024,\n",
       " 0.7194329188424714,\n",
       " 0.5823445973678334,\n",
       " 0.18429847432058855,\n",
       " 0.7031062788394943,\n",
       " 0.014114189965753976,\n",
       " 0.6333679508217209,\n",
       " 0.5522518385289829,\n",
       " 0.8117414115580864,\n",
       " 0.7511790616572659,\n",
       " 0.9014392362266549,\n",
       " 0.5063606424345853,\n",
       " 0.6801950216060598,\n",
       " 0.11021361947143427,\n",
       " 0.15149691022575174,\n",
       " 0.2326023625450947,\n",
       " 0.8854050376489842,\n",
       " 0.11268848989471003,\n",
       " 0.5412809301722546,\n",
       " 0.085354664650098,\n",
       " 0.8398105131513209,\n",
       " 0.7293544593453096,\n",
       " 0.3753027822914504,\n",
       " 0.09748178415597997,\n",
       " 0.889272861765285,\n",
       " 0.01509892535607571,\n",
       " 0.5293621540118161,\n",
       " 0.7989705051394487,\n",
       " 0.18003826324964012,\n",
       " 0.9369135075378109,\n",
       " 0.961984964166332,\n",
       " 0.4623168900523895,\n",
       " 0.7324849261637592,\n",
       " 0.8626494077196417,\n",
       " 0.44770702047096445,\n",
       " 0.5067904756005162,\n",
       " 0.9464180255005383,\n",
       " 0.3031345536977691,\n",
       " 0.6412135877322718,\n",
       " 0.6757910733280061,\n",
       " 0.8683324815803359,\n",
       " 0.8536093134233789,\n",
       " 0.346127380166246,\n",
       " 0.37254740691619415,\n",
       " 0.7131324810143335,\n",
       " 0.690683469055233,\n",
       " 0.6633223862135159,\n",
       " 0.5242038242999589,\n",
       " 0.4465522804475771,\n",
       " 0.3908682143332961,\n",
       " 0.7666466295609791,\n",
       " 0.3467617400289186,\n",
       " 0.18105298246288193,\n",
       " 0.8338273628786871,\n",
       " 0.004349132121513,\n",
       " 0.38975878494028393,\n",
       " 0.5725609244905215,\n",
       " 0.06546979342905968,\n",
       " 0.7823306900704435,\n",
       " 0.795814654553491,\n",
       " 0.5700796771347315,\n",
       " 0.7750402864293093,\n",
       " 0.09104369284692904,\n",
       " 0.8326077629241054,\n",
       " 0.8449349899453407,\n",
       " 0.2839372563016278,\n",
       " 0.8304943584928508,\n",
       " 0.43465098641808086,\n",
       " 0.07870171310210261,\n",
       " 0.7939522071437903,\n",
       " 0.637964163502566,\n",
       " 0.7621562503411038,\n",
       " 0.8042885508600746,\n",
       " 0.6144108246550962,\n",
       " 0.5591618987228328,\n",
       " 0.06582263098582364,\n",
       " 0.4465972421410904,\n",
       " 0.961602546154054,\n",
       " 0.32921867553158835,\n",
       " 0.5050203112878145,\n",
       " 0.38432683226482156,\n",
       " 0.4349526125143357,\n",
       " 0.9536136385295637,\n",
       " 0.5700448063970723,\n",
       " 0.7006409579682713,\n",
       " 0.19313998177820368,\n",
       " 0.27982599030435795,\n",
       " 0.7965289656867339,\n",
       " 0.7067233006432354,\n",
       " 0.5139950891504876,\n",
       " 0.5793519101448579,\n",
       " 0.9641242773739315,\n",
       " 0.6875552250935233,\n",
       " 0.8418479431202369,\n",
       " 0.6710452206246651,\n",
       " 0.044177311443010736,\n",
       " 0.6926451721956478,\n",
       " 0.6091627430345695,\n",
       " 0.6116755745475921,\n",
       " 0.9640174484888855,\n",
       " 0.5279039428216317,\n",
       " 0.40893288036621345,\n",
       " 0.5266501858458369,\n",
       " 0.6238770396469284,\n",
       " 0.7291655776543524,\n",
       " 0.9496757677475428,\n",
       " 0.611552879274462,\n",
       " 0.7580506553934232,\n",
       " 0.914783347198277,\n",
       " 0.9843511867035691,\n",
       " 0.07226307924525899,\n",
       " 0.20860313191572166,\n",
       " 0.4569061057750661,\n",
       " 0.16416016247874865,\n",
       " 0.046484678839349924,\n",
       " 0.4363867447460984,\n",
       " 0.8493638495738223,\n",
       " 0.07990601548749787,\n",
       " 0.3466174757879319,\n",
       " 0.16297707061025035,\n",
       " 0.05748859609087276,\n",
       " 0.098934575158666,\n",
       " 0.7116670443901365,\n",
       " 0.9534488230565714,\n",
       " 0.1174343968295648,\n",
       " 0.9126094338499084,\n",
       " 0.6809870036439117,\n",
       " 0.6402975133950135]"
      ]
     },
     "execution_count": 14,
     "metadata": {},
     "output_type": "execute_result"
    }
   ],
   "source": [
    "aconn.optimize()"
   ]
  },
  {
   "cell_type": "code",
   "execution_count": 15,
   "id": "58b85cba",
   "metadata": {},
   "outputs": [
    {
     "name": "stdout",
     "output_type": "stream",
     "text": [
      "ACCURACY : 0.7135416666666666\n",
      "\n",
      "CLASSIFICATION REPORT :\n",
      "               precision    recall  f1-score   support\n",
      "\n",
      "           0       0.69      0.65      0.67        86\n",
      "           1       0.73      0.76      0.75       106\n",
      "\n",
      "    accuracy                           0.71       192\n",
      "   macro avg       0.71      0.71      0.71       192\n",
      "weighted avg       0.71      0.71      0.71       192\n",
      "\n"
     ]
    }
   ],
   "source": [
    "aconn.reports(X_test,y_test)"
   ]
  },
  {
   "cell_type": "code",
   "execution_count": null,
   "id": "87b1203f",
   "metadata": {},
   "outputs": [],
   "source": []
  },
  {
   "cell_type": "code",
   "execution_count": null,
   "id": "93ec61a7",
   "metadata": {},
   "outputs": [],
   "source": []
  },
  {
   "cell_type": "code",
   "execution_count": null,
   "id": "7c12ddcd",
   "metadata": {},
   "outputs": [],
   "source": []
  },
  {
   "cell_type": "code",
   "execution_count": null,
   "id": "9258fe46",
   "metadata": {},
   "outputs": [],
   "source": [
    "\n"
   ]
  }
 ],
 "metadata": {
  "kernelspec": {
   "display_name": "Python 3 (ipykernel)",
   "language": "python",
   "name": "python3"
  },
  "language_info": {
   "codemirror_mode": {
    "name": "ipython",
    "version": 3
   },
   "file_extension": ".py",
   "mimetype": "text/x-python",
   "name": "python",
   "nbconvert_exporter": "python",
   "pygments_lexer": "ipython3",
   "version": "3.10.7"
  }
 },
 "nbformat": 4,
 "nbformat_minor": 5
}
