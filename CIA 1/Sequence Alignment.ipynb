{
 "cells": [
  {
   "cell_type": "code",
   "execution_count": 47,
   "id": "ba9afb7f",
   "metadata": {},
   "outputs": [],
   "source": [
    "import numpy as np"
   ]
  },
  {
   "cell_type": "code",
   "execution_count": 48,
   "id": "4a9dbd5b",
   "metadata": {},
   "outputs": [],
   "source": [
    "class SequenceAlignment:\n",
    "    \n",
    "    def __init__(self,s1,s2,match=2,mismatch=1,penalty=0):\n",
    "        self.s1=s1\n",
    "        self.s2=s2\n",
    "        self.m=len(self.s1)+1\n",
    "        self.n=len(self.s2)+1\n",
    "        self.A=None\n",
    "        self.T=None\n",
    "        self.penalty=penalty\n",
    "        self.match=match\n",
    "        self.mismatch=mismatch\n",
    "    \n",
    "    def initialise(self):\n",
    "        self.A=np.zeros((self.m,self.n))\n",
    "        self.T=np.zeros((self.m,self.n))\n",
    "        \n",
    "        if (self.penalty>0):\n",
    "            self.A[0]=[i for i in range(0,-self.penalty*self.m,-self.penalty)]\n",
    "            self.A[:,0]=[i for i in range(0,-self.penalty*self.m,-self.penalty)]\n",
    "        \n",
    "            self.T[0]=[1 for i in range(self.m)]\n",
    "            self.T[:,0]=[2 for i in range(self.n)]\n",
    "        \n",
    "            self.T[0][0]=0\n",
    "            \n",
    "    def matrices(self):\n",
    "        for i in range(1,self.n):\n",
    "            for j in range(1,self.m):\n",
    "\n",
    "                #match\n",
    "                if(self.s2[i-1]==self.s1[j-1]):\n",
    "                    self.A[i][j]=self.match+self.A[i-1][j-1]\n",
    "                    self.T[i][j]= 3\n",
    "\n",
    "                #mismatch\n",
    "                elif(self.s2[i-1]!=self.s1[j-1]):\n",
    "                    \n",
    "                    gap_open_penalty=-self.penalty\n",
    "                    \n",
    "                    diagonal=self.A[i-1][j-1]-self.mismatch\n",
    "                    up=self.A[i-1][j]+gap_open_penalty\n",
    "                    left=self.A[i][j-1]+gap_open_penalty\n",
    "                    \n",
    "                    #print(self.s2[i-1],self.s1[j-1],diagonal,up,left)\n",
    "                    \n",
    "                    num,direction=Maxx(diagonal,up,left)\n",
    "                    \n",
    "                    self.A[i][j]=num\n",
    "                    \n",
    "                    self.T[i][j]=direction\n",
    "                    \n",
    "    def get_score(self):\n",
    "        i=len(self.s2)\n",
    "        j=len(self.s1)\n",
    "        score=self.A[i][j]\n",
    "        \n",
    "        return i,j, score\n",
    "                    \n",
    "    def get_sequences(self,i,j,seq1,seq2):\n",
    "        \n",
    "        if(i==0 and j==0):\n",
    "            return seq1,seq2\n",
    "        \n",
    "        \n",
    "        if self.T[i][j]==3: #diagonal\n",
    "            \n",
    "            if(self.s1[j-1]==self.s2[i-1]):\n",
    "                seq1=self.s1[j-1]+seq1\n",
    "                seq2=self.s2[i-1]+seq2\n",
    "                \n",
    "            elif(self.s1[j-1]!=self.s2[i-1]):\n",
    "                seq1=self.s1[j-1]+seq1\n",
    "                seq2=self.s2[i-1]+seq2\n",
    "            \n",
    "            i-=1\n",
    "            j-=1\n",
    "            \n",
    "        elif self.T[i][j]==2:\n",
    "            \n",
    "            seq1=\"_\"+seq1\n",
    "            seq2=self.s2[i-1]+seq2\n",
    "            i-=1\n",
    "        elif self.T[i][j]==1:\n",
    "            \n",
    "            seq1=self.s1[j-1]+seq1\n",
    "            seq2='_'+seq2\n",
    "            j-=1\n",
    "            \n",
    "            \n",
    "        return self.get_sequences(i,j,seq1,seq2)\n",
    "        \n",
    "\n",
    "    def printmat(self):\n",
    "        for i in range(self.m):\n",
    "            for j in range(self.n):\n",
    "                print(self.A[i][j],end=\" \")\n",
    "            print(\"\\n\")\n",
    "            \n",
    "    def maximum(self,x,y,z):\n",
    "        if(x>y and x>z):\n",
    "            return x\n",
    "        elif(y>x and y>z):\n",
    "            return y\n",
    "        else:\n",
    "            return z\n",
    "        \n",
    "    def alignment_score(self):\n",
    "        \n",
    "        i, j, mat_score = sa.get_score()\n",
    "        s1,s2=sa.get_sequences(i,j,'','')\n",
    "        \n",
    "        score=0\n",
    "\n",
    "        for i in range(len(s1)):\n",
    "\n",
    "            if(s1[i]==s2[i]): #match\n",
    "                score+=self.match \n",
    "                print(\"match :\",self.match )\n",
    "            elif(s1[i]=='_' or s2[i]=='_'): #gap penalty\n",
    "                score-=self.penalty\n",
    "                print(\"penalty :\",self.penalty )\n",
    "            elif(s1[i]!=s2[i]): #mismatch!\n",
    "                score-=self.mismatch\n",
    "                print(\"mismatch :\",self.mismatch )\n",
    "        return score\n",
    "\n",
    "def Maxx(x,y,z):\n",
    "    \n",
    "    if(x>y and x>z):\n",
    "        return (x,3)\n",
    "    \n",
    "    elif(y>x and y>z):\n",
    "        return (y,2)\n",
    "    \n",
    "    elif(z>x and z>y):\n",
    "        return (z,1)\n",
    "    \n",
    "    else:\n",
    "        return x,3\n",
    "    "
   ]
  },
  {
   "cell_type": "code",
   "execution_count": 49,
   "id": "245283bf",
   "metadata": {},
   "outputs": [
    {
     "name": "stdout",
     "output_type": "stream",
     "text": [
      "0.0 -2.0 -4.0 -6.0 -8.0 -10.0 \n",
      "\n",
      "-2.0 -1.0 -3.0 -5.0 -7.0 -9.0 \n",
      "\n",
      "-4.0 -1.0 -2.0 -4.0 -4.0 -6.0 \n",
      "\n",
      "-6.0 -3.0 -2.0 -3.0 -5.0 -5.0 \n",
      "\n",
      "-8.0 -5.0 -2.0 -1.0 -3.0 -4.0 \n",
      "\n",
      "-10.0 -7.0 -4.0 -3.0 0.0 -2.0 \n",
      "\n"
     ]
    }
   ],
   "source": [
    "s1='TGGTG'\n",
    "s2='ATCGT'\n",
    "\n",
    "sa=SequenceAlignment(s1,s2,penalty=2,match=1,mismatch=1)\n",
    "sa.initialise()\n",
    "sa.matrices()\n",
    "sa.printmat()"
   ]
  },
  {
   "cell_type": "code",
   "execution_count": 50,
   "id": "50d7ac08",
   "metadata": {},
   "outputs": [
    {
     "data": {
      "text/plain": [
       "array([[0., 1., 1., 1., 1., 1.],\n",
       "       [2., 3., 3., 3., 3., 3.],\n",
       "       [2., 3., 3., 3., 3., 1.],\n",
       "       [2., 2., 3., 3., 3., 3.],\n",
       "       [2., 2., 3., 3., 1., 3.],\n",
       "       [2., 3., 2., 3., 3., 1.]])"
      ]
     },
     "execution_count": 50,
     "metadata": {},
     "output_type": "execute_result"
    }
   ],
   "source": [
    "sa.T"
   ]
  },
  {
   "cell_type": "code",
   "execution_count": 51,
   "id": "37be6755",
   "metadata": {},
   "outputs": [],
   "source": [
    "i, j, score = sa.get_score()\n",
    "ss1,ss2=sa.get_sequences(i,j,'','')"
   ]
  },
  {
   "cell_type": "code",
   "execution_count": 52,
   "id": "46a8967b",
   "metadata": {},
   "outputs": [
    {
     "data": {
      "text/plain": [
       "-2.0"
      ]
     },
     "execution_count": 52,
     "metadata": {},
     "output_type": "execute_result"
    }
   ],
   "source": [
    "score"
   ]
  },
  {
   "cell_type": "code",
   "execution_count": 53,
   "id": "cdb791bc",
   "metadata": {},
   "outputs": [
    {
     "data": {
      "text/plain": [
       "('_TGGTG', 'ATCGT_')"
      ]
     },
     "execution_count": 53,
     "metadata": {},
     "output_type": "execute_result"
    }
   ],
   "source": [
    "ss1,ss2"
   ]
  },
  {
   "cell_type": "code",
   "execution_count": 54,
   "id": "ba4b4a19",
   "metadata": {},
   "outputs": [
    {
     "name": "stdout",
     "output_type": "stream",
     "text": [
      "penalty : 2\n",
      "match : 1\n",
      "mismatch : 1\n",
      "match : 1\n",
      "match : 1\n",
      "penalty : 2\n"
     ]
    },
    {
     "data": {
      "text/plain": [
       "-2"
      ]
     },
     "execution_count": 54,
     "metadata": {},
     "output_type": "execute_result"
    }
   ],
   "source": [
    "sa.alignment_score()"
   ]
  },
  {
   "cell_type": "code",
   "execution_count": 55,
   "id": "d07542b3",
   "metadata": {},
   "outputs": [
    {
     "name": "stdout",
     "output_type": "stream",
     "text": [
      "0.0 -1.0 -2.0 -3.0 -4.0 -5.0 -6.0 -7.0 -8.0 \n",
      "\n",
      "-1.0 2.0 1.0 0.0 -1.0 -2.0 -3.0 -4.0 -5.0 \n",
      "\n",
      "-2.0 1.0 1.0 0.0 -1.0 -2.0 -3.0 -4.0 -5.0 \n",
      "\n",
      "-3.0 0.0 3.0 2.0 2.0 1.0 0.0 -1.0 -2.0 \n",
      "\n",
      "-4.0 -1.0 2.0 5.0 4.0 4.0 3.0 2.0 1.0 \n",
      "\n",
      "-5.0 -2.0 1.0 4.0 7.0 6.0 6.0 5.0 4.0 \n",
      "\n",
      "-6.0 -3.0 0.0 3.0 6.0 9.0 8.0 7.0 7.0 \n",
      "\n",
      "-7.0 -4.0 -1.0 2.0 5.0 8.0 11.0 10.0 9.0 \n",
      "\n",
      "-8.0 -5.0 -2.0 1.0 4.0 7.0 10.0 10.0 12.0 \n",
      "\n"
     ]
    }
   ],
   "source": [
    "s1='ACACACTA'\n",
    "s2='AGCACACA'\n",
    "\n",
    "sa=SequenceAlignment(s1,s2,penalty=1,match=2,mismatch=1)\n",
    "sa.initialise()\n",
    "sa.matrices()\n",
    "sa.printmat()"
   ]
  },
  {
   "cell_type": "code",
   "execution_count": 56,
   "id": "42084536",
   "metadata": {},
   "outputs": [
    {
     "data": {
      "text/plain": [
       "('A_CACACTA', 'AGCACAC_A')"
      ]
     },
     "execution_count": 56,
     "metadata": {},
     "output_type": "execute_result"
    }
   ],
   "source": [
    "i, j, score = sa.get_score()\n",
    "ss1,ss2=sa.get_sequences(i,j,'','')\n",
    "ss1,ss2"
   ]
  },
  {
   "cell_type": "code",
   "execution_count": 57,
   "id": "e5c673d2",
   "metadata": {},
   "outputs": [
    {
     "name": "stdout",
     "output_type": "stream",
     "text": [
      "match : 2\n",
      "penalty : 1\n",
      "match : 2\n",
      "match : 2\n",
      "match : 2\n",
      "match : 2\n",
      "match : 2\n",
      "penalty : 1\n",
      "match : 2\n"
     ]
    },
    {
     "data": {
      "text/plain": [
       "12"
      ]
     },
     "execution_count": 57,
     "metadata": {},
     "output_type": "execute_result"
    }
   ],
   "source": [
    "sa.alignment_score()"
   ]
  },
  {
   "cell_type": "code",
   "execution_count": null,
   "id": "49620fbc",
   "metadata": {},
   "outputs": [],
   "source": []
  },
  {
   "cell_type": "code",
   "execution_count": null,
   "id": "16a6f909",
   "metadata": {},
   "outputs": [],
   "source": []
  },
  {
   "cell_type": "code",
   "execution_count": null,
   "id": "a1f78fd3",
   "metadata": {},
   "outputs": [],
   "source": []
  }
 ],
 "metadata": {
  "kernelspec": {
   "display_name": "Python 3 (ipykernel)",
   "language": "python",
   "name": "python3"
  },
  "language_info": {
   "codemirror_mode": {
    "name": "ipython",
    "version": 3
   },
   "file_extension": ".py",
   "mimetype": "text/x-python",
   "name": "python",
   "nbconvert_exporter": "python",
   "pygments_lexer": "ipython3",
   "version": "3.10.7"
  }
 },
 "nbformat": 4,
 "nbformat_minor": 5
}
