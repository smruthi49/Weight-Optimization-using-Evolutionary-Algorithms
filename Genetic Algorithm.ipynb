{
 "cells": [
  {
   "cell_type": "markdown",
   "id": "cf0d9a52",
   "metadata": {},
   "source": [
    "### Importing Libraries"
   ]
  },
  {
   "cell_type": "code",
   "execution_count": 1,
   "id": "6d15951c",
   "metadata": {},
   "outputs": [],
   "source": [
    "import numpy as np\n",
    "import pandas as pd\n",
    "from sklearn.model_selection import train_test_split\n",
    "from sklearn.utils import resample\n",
    "from sklearn.preprocessing import StandardScaler\n",
    "from sklearn.metrics import classification_report,accuracy_score,\\\n",
    "log_loss,confusion_matrix\n",
    "import math\n",
    "import warnings\n",
    "warnings.filterwarnings('ignore')"
   ]
  },
  {
   "cell_type": "markdown",
   "id": "f7a54345",
   "metadata": {},
   "source": [
    "### Reading Data"
   ]
  },
  {
   "cell_type": "code",
   "execution_count": 2,
   "id": "5d7d6abe",
   "metadata": {},
   "outputs": [],
   "source": [
    "df=pd.read_csv(\"bank.xls\")"
   ]
  },
  {
   "cell_type": "code",
   "execution_count": 3,
   "id": "e49958d7",
   "metadata": {},
   "outputs": [],
   "source": [
    "df.drop(['ID'],axis=1,inplace=True)"
   ]
  },
  {
   "cell_type": "markdown",
   "id": "8beb4c28",
   "metadata": {},
   "source": [
    "### Downsampling Data"
   ]
  },
  {
   "cell_type": "code",
   "execution_count": 4,
   "id": "4c874548",
   "metadata": {},
   "outputs": [],
   "source": [
    "one_class=df[df['Personal Loan']==1]\n",
    "zero_class=df[df['Personal Loan']==0]"
   ]
  },
  {
   "cell_type": "code",
   "execution_count": 5,
   "id": "c27d95f4",
   "metadata": {},
   "outputs": [],
   "source": [
    "zero_downsample = resample(zero_class,\n",
    "             replace=True,\n",
    "             n_samples=len(one_class),\n",
    "             random_state=42)"
   ]
  },
  {
   "cell_type": "code",
   "execution_count": 6,
   "id": "332384bb",
   "metadata": {},
   "outputs": [],
   "source": [
    "data=pd.concat([zero_downsample,one_class])"
   ]
  },
  {
   "cell_type": "code",
   "execution_count": 7,
   "id": "3917281b",
   "metadata": {},
   "outputs": [],
   "source": [
    "X=data.drop(['Personal Loan'],axis=1).values\n",
    "Y=data['Personal Loan'].values"
   ]
  },
  {
   "cell_type": "markdown",
   "id": "7a41e94b",
   "metadata": {},
   "source": [
    "### Splitting Data"
   ]
  },
  {
   "cell_type": "code",
   "execution_count": 8,
   "id": "88ec055f",
   "metadata": {},
   "outputs": [],
   "source": [
    "X_train,X_test, y_train, y_test = train_test_split(X, Y, test_size=0.2, random_state=42)"
   ]
  },
  {
   "cell_type": "code",
   "execution_count": 9,
   "id": "9f27392f",
   "metadata": {},
   "outputs": [
    {
     "data": {
      "text/plain": [
       "(768, 12)"
      ]
     },
     "execution_count": 9,
     "metadata": {},
     "output_type": "execute_result"
    }
   ],
   "source": [
    "X_train.shape"
   ]
  },
  {
   "cell_type": "code",
   "execution_count": 10,
   "id": "15e3a657",
   "metadata": {},
   "outputs": [],
   "source": [
    "sc=StandardScaler()"
   ]
  },
  {
   "cell_type": "code",
   "execution_count": 11,
   "id": "16fcd8b6",
   "metadata": {},
   "outputs": [],
   "source": [
    "X_train=sc.fit_transform(X_train)\n",
    "X_test=sc.transform(X_test)"
   ]
  },
  {
   "cell_type": "markdown",
   "id": "d053299e",
   "metadata": {},
   "source": [
    "### Genetic Algorithm for Weight Optimisation"
   ]
  },
  {
   "cell_type": "code",
   "execution_count": 12,
   "id": "9b4d3784",
   "metadata": {},
   "outputs": [],
   "source": [
    "class geneticNN:\n",
    "    \n",
    "    def __init__(self, X_train, y_train, hidden_layer_size=10, generations=20, chromosomes=30,\n",
    "                 mating_parents=10, crossover_rate=0.85, mutation_rate=0.4):\n",
    "        self.input_layer_size = X_train.shape[1]\n",
    "        self.hidden_layer_size = hidden_layer_size\n",
    "        self.output_layer_size = 1\n",
    "        self.generations = generations\n",
    "        self.chromosomes = chromosomes\n",
    "        self.mating_parents = mating_parents\n",
    "        self.crossover_rate = crossover_rate\n",
    "        self.mutation_rate = mutation_rate\n",
    "        self.equation_inputs = X_train\n",
    "        self.population = np.random.rand(self.chromosomes, self.get_genes())\n",
    "        self.population = 2 * self.population - 1\n",
    "        self.y_train = y_train\n",
    "        self.best_weights=None\n",
    "        \n",
    "    \n",
    "    def get_genes(self):\n",
    "        return self.input_layer_size * self.hidden_layer_size + self.hidden_layer_size + self.hidden_layer_size * \\\n",
    "               self.output_layer_size + self.output_layer_size\n",
    "    \n",
    "    def sigmoid(self, x):\n",
    "        return 1 / (1 + np.exp(-x))\n",
    "\n",
    "    def tanh(self, x):\n",
    "        return (np.exp(x) - np.exp(-x)) / (np.exp(x) + np.exp(-x))\n",
    "\n",
    "    def forward(self, inputs, weights):\n",
    "        weight1 = np.reshape(weights[:self.hidden_layer_size * self.input_layer_size],\n",
    "                              (self.hidden_layer_size, self.input_layer_size))\n",
    "        bias1 = np.reshape(weights[self.hidden_layer_size * self.input_layer_size:self.hidden_layer_size *\n",
    "                                   self.input_layer_size + self.hidden_layer_size], (self.output_layer_size,self.hidden_layer_size))\n",
    "        weight2 = np.reshape(weights[self.hidden_layer_size * self.input_layer_size + self.hidden_layer_size:-1],\n",
    "                              (self.output_layer_size, self.hidden_layer_size))\n",
    "        bias2 = np.reshape(weights[-1], (self.output_layer_size, 1))\n",
    "\n",
    "        A0 = inputs\n",
    "        Z1 = A0.dot(weight1.T)+bias1\n",
    "        A1 = self.sigmoid(Z1)\n",
    "        Z2 = A1.dot(weight2.T)+bias2\n",
    "        A2 = self.sigmoid(Z2)\n",
    "        y_pred = np.round(A2)\n",
    "\n",
    "        return y_pred\n",
    "\n",
    "    def fitness_function(self, inputs, population, y_train):\n",
    "        fitness = []\n",
    "        for weights in population:\n",
    "            y_pred = self.forward(inputs, weights)\n",
    "            acc = accuracy_score(y_train, y_pred)\n",
    "\n",
    "            fitness.append(acc)\n",
    "\n",
    "        return fitness\n",
    "\n",
    "    def select_parents(self, population, fitness, mating_parents):\n",
    "        parents = np.zeros((mating_parents, population.shape[1]))\n",
    "        for parent_num in range(mating_parents):\n",
    "            max_fitness_index = np.where(fitness == np.max(fitness))\n",
    "            max_fitness_index = max_fitness_index[0][0]\n",
    "            parents[parent_num, :] = population[max_fitness_index, :]\n",
    "            fitness[max_fitness_index] = -999999\n",
    "        return parents\n",
    "\n",
    "    def crossover(self, parents, offspring_size):\n",
    "        offspring = np.empty(offspring_size)\n",
    "\n",
    "        crossover_point = np.uint8(offspring_size[1] / 2)\n",
    "\n",
    "        for k in range(offspring_size[0]):\n",
    "            parent1_index = k % parents.shape[0]\n",
    "            parent2_index = (k + 1) % parents.shape[0]\n",
    "\n",
    "            # Generate a random number between 0 and 1\n",
    "            r = np.random.rand()\n",
    "\n",
    "            # If random number is less than crossover rate, perform crossover\n",
    "            if r < self.crossover_rate:\n",
    "                offspring[k, 0:crossover_point] = parents[parent1_index, 0:crossover_point]\n",
    "                offspring[k, crossover_point:] = parents[parent2_index, crossover_point:]\n",
    "            else:\n",
    "                offspring[k, :] = parents[parent1_index, :]\n",
    "\n",
    "        return offspring\n",
    "\n",
    "    def mutation(self, offspring_crossover):\n",
    "        \n",
    "        num_mutations = int(offspring_crossover.shape[0] * self.mutation_rate)\n",
    "    \n",
    "        mutation_indices = np.random.choice(offspring_crossover.shape[0], num_mutations, replace=False)\n",
    "\n",
    "        for i in mutation_indices:\n",
    "            offspring_crossover[i, 4] += np.random.uniform(-1, 1)\n",
    "        \n",
    "        return offspring_crossover\n",
    "\n",
    "    def generate_new_population(self, parents, offspring_size):\n",
    "        offspring_crossover = self.crossover(parents, offspring_size)\n",
    "        offspring_mutation = self.mutation(offspring_crossover)\n",
    "        return offspring_mutation\n",
    "\n",
    "    def run(self):\n",
    "        for generation in range(self.generations):\n",
    "            \n",
    "            fitness = self.fitness_function(self.equation_inputs, self.population, self.y_train)\n",
    "            \n",
    "            parents = self.select_parents(self.population, fitness, self.mating_parents)\n",
    "\n",
    "            offspring_size = (self.chromosomes - parents.shape[0], self.get_genes())\n",
    "\n",
    "            offspring_mutation = self.generate_new_population(parents, offspring_size)\n",
    "\n",
    "            self.population[0:parents.shape[0], :] = parents\n",
    "            self.population[parents.shape[0]:, :] = offspring_mutation\n",
    "\n",
    "            print(\"Generation:\", generation, \"Accuracy:\", np.max(fitness))\n",
    "\n",
    "        self.best_weights = self.population[np.where(fitness == np.max(fitness))][0]\n",
    "        #print(self.population[np.where(fitness == np.max(fitness))][0])\n",
    "        #return self.best_weights.shape\n",
    "        \n",
    "    def predict(self,X_test):\n",
    "        prediction=self.forward(X_test,self.best_weights)\n",
    "        return prediction\n",
    "    \n",
    "    def reports(self,X_test,y_test):\n",
    "        prediction=self.forward(X_test,self.best_weights)\n",
    "        \n",
    "        print(f\"ACCURACY : {accuracy_score(y_test,prediction)}\\n\\n\\\n",
    "CLASSIFICATION REPORT :\\n {classification_report(y_test,prediction)}\")\n"
   ]
  },
  {
   "cell_type": "code",
   "execution_count": 13,
   "id": "7dbb5b66",
   "metadata": {},
   "outputs": [],
   "source": [
    "geneticnn=geneticNN(X_train,y_train,\n",
    "    hidden_layer_size=10,\n",
    "    generations=25,\n",
    "    chromosomes=40,\n",
    "    mating_parents=9,\n",
    "    crossover_rate=0.80,\n",
    "    mutation_rate=0.4)"
   ]
  },
  {
   "cell_type": "code",
   "execution_count": 14,
   "id": "695dc950",
   "metadata": {},
   "outputs": [
    {
     "name": "stdout",
     "output_type": "stream",
     "text": [
      "Generation: 0 Accuracy: 0.5182291666666666\n",
      "Generation: 1 Accuracy: 0.6145833333333334\n",
      "Generation: 2 Accuracy: 0.734375\n",
      "Generation: 3 Accuracy: 0.7356770833333334\n",
      "Generation: 4 Accuracy: 0.7421875\n",
      "Generation: 5 Accuracy: 0.7421875\n",
      "Generation: 6 Accuracy: 0.7434895833333334\n",
      "Generation: 7 Accuracy: 0.7434895833333334\n",
      "Generation: 8 Accuracy: 0.7434895833333334\n",
      "Generation: 9 Accuracy: 0.7434895833333334\n",
      "Generation: 10 Accuracy: 0.7434895833333334\n",
      "Generation: 11 Accuracy: 0.7434895833333334\n",
      "Generation: 12 Accuracy: 0.7434895833333334\n",
      "Generation: 13 Accuracy: 0.7434895833333334\n",
      "Generation: 14 Accuracy: 0.7434895833333334\n",
      "Generation: 15 Accuracy: 0.7434895833333334\n",
      "Generation: 16 Accuracy: 0.7434895833333334\n",
      "Generation: 17 Accuracy: 0.7434895833333334\n",
      "Generation: 18 Accuracy: 0.7434895833333334\n",
      "Generation: 19 Accuracy: 0.7434895833333334\n",
      "Generation: 20 Accuracy: 0.7434895833333334\n",
      "Generation: 21 Accuracy: 0.7434895833333334\n",
      "Generation: 22 Accuracy: 0.7434895833333334\n",
      "Generation: 23 Accuracy: 0.7434895833333334\n",
      "Generation: 24 Accuracy: 0.7434895833333334\n"
     ]
    }
   ],
   "source": [
    "geneticnn.run()"
   ]
  },
  {
   "cell_type": "code",
   "execution_count": 15,
   "id": "29bc149f",
   "metadata": {},
   "outputs": [],
   "source": [
    "pred=geneticnn.predict(X_test)"
   ]
  },
  {
   "cell_type": "code",
   "execution_count": 16,
   "id": "7ac586aa",
   "metadata": {},
   "outputs": [
    {
     "name": "stdout",
     "output_type": "stream",
     "text": [
      "ACCURACY : 0.7864583333333334\n",
      "\n",
      "CLASSIFICATION REPORT :\n",
      "               precision    recall  f1-score   support\n",
      "\n",
      "           0       0.87      0.62      0.72        86\n",
      "           1       0.75      0.92      0.83       106\n",
      "\n",
      "    accuracy                           0.79       192\n",
      "   macro avg       0.81      0.77      0.77       192\n",
      "weighted avg       0.80      0.79      0.78       192\n",
      "\n"
     ]
    }
   ],
   "source": [
    "geneticnn.reports(X_test,y_test)"
   ]
  },
  {
   "cell_type": "code",
   "execution_count": null,
   "id": "79aea76c",
   "metadata": {},
   "outputs": [],
   "source": []
  },
  {
   "cell_type": "code",
   "execution_count": null,
   "id": "5717d6f8",
   "metadata": {},
   "outputs": [],
   "source": []
  },
  {
   "cell_type": "code",
   "execution_count": null,
   "id": "61c0ed8e",
   "metadata": {},
   "outputs": [],
   "source": []
  },
  {
   "cell_type": "code",
   "execution_count": null,
   "id": "3df3bc23",
   "metadata": {},
   "outputs": [],
   "source": [
    "\n"
   ]
  },
  {
   "cell_type": "code",
   "execution_count": null,
   "id": "58b85cba",
   "metadata": {},
   "outputs": [],
   "source": []
  },
  {
   "cell_type": "code",
   "execution_count": null,
   "id": "87b1203f",
   "metadata": {},
   "outputs": [],
   "source": []
  },
  {
   "cell_type": "code",
   "execution_count": null,
   "id": "93ec61a7",
   "metadata": {},
   "outputs": [],
   "source": []
  },
  {
   "cell_type": "code",
   "execution_count": null,
   "id": "7c12ddcd",
   "metadata": {},
   "outputs": [],
   "source": []
  },
  {
   "cell_type": "code",
   "execution_count": null,
   "id": "9258fe46",
   "metadata": {},
   "outputs": [],
   "source": [
    "\n"
   ]
  }
 ],
 "metadata": {
  "kernelspec": {
   "display_name": "Python 3 (ipykernel)",
   "language": "python",
   "name": "python3"
  },
  "language_info": {
   "codemirror_mode": {
    "name": "ipython",
    "version": 3
   },
   "file_extension": ".py",
   "mimetype": "text/x-python",
   "name": "python",
   "nbconvert_exporter": "python",
   "pygments_lexer": "ipython3",
   "version": "3.10.7"
  }
 },
 "nbformat": 4,
 "nbformat_minor": 5
}
