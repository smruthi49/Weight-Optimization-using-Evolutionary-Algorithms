{
 "cells": [
  {
   "cell_type": "markdown",
   "id": "e9ff3124",
   "metadata": {},
   "source": [
    "### Importing Libraries"
   ]
  },
  {
   "cell_type": "code",
   "execution_count": 1,
   "id": "9770385e",
   "metadata": {
    "id": "9770385e"
   },
   "outputs": [],
   "source": [
    "import numpy as np\n",
    "import pandas as pd\n",
    "from sklearn.model_selection import train_test_split\n",
    "from sklearn.preprocessing import StandardScaler\n",
    "from sklearn.metrics import classification_report,accuracy_score,\\\n",
    "log_loss,confusion_matrix\n",
    "import math\n",
    "import warnings\n",
    "warnings.filterwarnings('ignore')"
   ]
  },
  {
   "cell_type": "markdown",
   "id": "57b7aeb6",
   "metadata": {},
   "source": [
    "### Reading Dataset"
   ]
  },
  {
   "cell_type": "code",
   "execution_count": 2,
   "id": "94c4d1e5",
   "metadata": {
    "id": "94c4d1e5"
   },
   "outputs": [],
   "source": [
    "df=pd.read_csv(\"bank.xls\")"
   ]
  },
  {
   "cell_type": "code",
   "execution_count": 3,
   "id": "e25e354f",
   "metadata": {
    "colab": {
     "base_uri": "https://localhost:8080/",
     "height": 363
    },
    "id": "e25e354f",
    "outputId": "39efdc30-b3ff-40c9-fddf-6f40b15c33c7",
    "scrolled": true
   },
   "outputs": [
    {
     "data": {
      "text/html": [
       "<div>\n",
       "<style scoped>\n",
       "    .dataframe tbody tr th:only-of-type {\n",
       "        vertical-align: middle;\n",
       "    }\n",
       "\n",
       "    .dataframe tbody tr th {\n",
       "        vertical-align: top;\n",
       "    }\n",
       "\n",
       "    .dataframe thead th {\n",
       "        text-align: right;\n",
       "    }\n",
       "</style>\n",
       "<table border=\"1\" class=\"dataframe\">\n",
       "  <thead>\n",
       "    <tr style=\"text-align: right;\">\n",
       "      <th></th>\n",
       "      <th>ID</th>\n",
       "      <th>Age</th>\n",
       "      <th>Experience</th>\n",
       "      <th>Income</th>\n",
       "      <th>ZIP Code</th>\n",
       "      <th>Family</th>\n",
       "      <th>CCAvg</th>\n",
       "      <th>Education</th>\n",
       "      <th>Mortgage</th>\n",
       "      <th>Personal Loan</th>\n",
       "      <th>Securities Account</th>\n",
       "      <th>CD Account</th>\n",
       "      <th>Online</th>\n",
       "      <th>CreditCard</th>\n",
       "    </tr>\n",
       "  </thead>\n",
       "  <tbody>\n",
       "    <tr>\n",
       "      <th>0</th>\n",
       "      <td>1</td>\n",
       "      <td>25</td>\n",
       "      <td>1</td>\n",
       "      <td>49</td>\n",
       "      <td>91107</td>\n",
       "      <td>4</td>\n",
       "      <td>1.6</td>\n",
       "      <td>1</td>\n",
       "      <td>0</td>\n",
       "      <td>0</td>\n",
       "      <td>1</td>\n",
       "      <td>0</td>\n",
       "      <td>0</td>\n",
       "      <td>0</td>\n",
       "    </tr>\n",
       "    <tr>\n",
       "      <th>1</th>\n",
       "      <td>2</td>\n",
       "      <td>45</td>\n",
       "      <td>19</td>\n",
       "      <td>34</td>\n",
       "      <td>90089</td>\n",
       "      <td>3</td>\n",
       "      <td>1.5</td>\n",
       "      <td>1</td>\n",
       "      <td>0</td>\n",
       "      <td>0</td>\n",
       "      <td>1</td>\n",
       "      <td>0</td>\n",
       "      <td>0</td>\n",
       "      <td>0</td>\n",
       "    </tr>\n",
       "    <tr>\n",
       "      <th>2</th>\n",
       "      <td>3</td>\n",
       "      <td>39</td>\n",
       "      <td>15</td>\n",
       "      <td>11</td>\n",
       "      <td>94720</td>\n",
       "      <td>1</td>\n",
       "      <td>1.0</td>\n",
       "      <td>1</td>\n",
       "      <td>0</td>\n",
       "      <td>0</td>\n",
       "      <td>0</td>\n",
       "      <td>0</td>\n",
       "      <td>0</td>\n",
       "      <td>0</td>\n",
       "    </tr>\n",
       "    <tr>\n",
       "      <th>3</th>\n",
       "      <td>4</td>\n",
       "      <td>35</td>\n",
       "      <td>9</td>\n",
       "      <td>100</td>\n",
       "      <td>94112</td>\n",
       "      <td>1</td>\n",
       "      <td>2.7</td>\n",
       "      <td>2</td>\n",
       "      <td>0</td>\n",
       "      <td>0</td>\n",
       "      <td>0</td>\n",
       "      <td>0</td>\n",
       "      <td>0</td>\n",
       "      <td>0</td>\n",
       "    </tr>\n",
       "    <tr>\n",
       "      <th>4</th>\n",
       "      <td>5</td>\n",
       "      <td>35</td>\n",
       "      <td>8</td>\n",
       "      <td>45</td>\n",
       "      <td>91330</td>\n",
       "      <td>4</td>\n",
       "      <td>1.0</td>\n",
       "      <td>2</td>\n",
       "      <td>0</td>\n",
       "      <td>0</td>\n",
       "      <td>0</td>\n",
       "      <td>0</td>\n",
       "      <td>0</td>\n",
       "      <td>1</td>\n",
       "    </tr>\n",
       "    <tr>\n",
       "      <th>5</th>\n",
       "      <td>6</td>\n",
       "      <td>37</td>\n",
       "      <td>13</td>\n",
       "      <td>29</td>\n",
       "      <td>92121</td>\n",
       "      <td>4</td>\n",
       "      <td>0.4</td>\n",
       "      <td>2</td>\n",
       "      <td>155</td>\n",
       "      <td>0</td>\n",
       "      <td>0</td>\n",
       "      <td>0</td>\n",
       "      <td>1</td>\n",
       "      <td>0</td>\n",
       "    </tr>\n",
       "    <tr>\n",
       "      <th>6</th>\n",
       "      <td>7</td>\n",
       "      <td>53</td>\n",
       "      <td>27</td>\n",
       "      <td>72</td>\n",
       "      <td>91711</td>\n",
       "      <td>2</td>\n",
       "      <td>1.5</td>\n",
       "      <td>2</td>\n",
       "      <td>0</td>\n",
       "      <td>0</td>\n",
       "      <td>0</td>\n",
       "      <td>0</td>\n",
       "      <td>1</td>\n",
       "      <td>0</td>\n",
       "    </tr>\n",
       "    <tr>\n",
       "      <th>7</th>\n",
       "      <td>8</td>\n",
       "      <td>50</td>\n",
       "      <td>24</td>\n",
       "      <td>22</td>\n",
       "      <td>93943</td>\n",
       "      <td>1</td>\n",
       "      <td>0.3</td>\n",
       "      <td>3</td>\n",
       "      <td>0</td>\n",
       "      <td>0</td>\n",
       "      <td>0</td>\n",
       "      <td>0</td>\n",
       "      <td>0</td>\n",
       "      <td>1</td>\n",
       "    </tr>\n",
       "    <tr>\n",
       "      <th>8</th>\n",
       "      <td>9</td>\n",
       "      <td>35</td>\n",
       "      <td>10</td>\n",
       "      <td>81</td>\n",
       "      <td>90089</td>\n",
       "      <td>3</td>\n",
       "      <td>0.6</td>\n",
       "      <td>2</td>\n",
       "      <td>104</td>\n",
       "      <td>0</td>\n",
       "      <td>0</td>\n",
       "      <td>0</td>\n",
       "      <td>1</td>\n",
       "      <td>0</td>\n",
       "    </tr>\n",
       "    <tr>\n",
       "      <th>9</th>\n",
       "      <td>10</td>\n",
       "      <td>34</td>\n",
       "      <td>9</td>\n",
       "      <td>180</td>\n",
       "      <td>93023</td>\n",
       "      <td>1</td>\n",
       "      <td>8.9</td>\n",
       "      <td>3</td>\n",
       "      <td>0</td>\n",
       "      <td>1</td>\n",
       "      <td>0</td>\n",
       "      <td>0</td>\n",
       "      <td>0</td>\n",
       "      <td>0</td>\n",
       "    </tr>\n",
       "  </tbody>\n",
       "</table>\n",
       "</div>"
      ],
      "text/plain": [
       "   ID  Age  Experience  Income  ZIP Code  Family  CCAvg  Education  Mortgage  \\\n",
       "0   1   25           1      49     91107       4    1.6          1         0   \n",
       "1   2   45          19      34     90089       3    1.5          1         0   \n",
       "2   3   39          15      11     94720       1    1.0          1         0   \n",
       "3   4   35           9     100     94112       1    2.7          2         0   \n",
       "4   5   35           8      45     91330       4    1.0          2         0   \n",
       "5   6   37          13      29     92121       4    0.4          2       155   \n",
       "6   7   53          27      72     91711       2    1.5          2         0   \n",
       "7   8   50          24      22     93943       1    0.3          3         0   \n",
       "8   9   35          10      81     90089       3    0.6          2       104   \n",
       "9  10   34           9     180     93023       1    8.9          3         0   \n",
       "\n",
       "   Personal Loan  Securities Account  CD Account  Online  CreditCard  \n",
       "0              0                   1           0       0           0  \n",
       "1              0                   1           0       0           0  \n",
       "2              0                   0           0       0           0  \n",
       "3              0                   0           0       0           0  \n",
       "4              0                   0           0       0           1  \n",
       "5              0                   0           0       1           0  \n",
       "6              0                   0           0       1           0  \n",
       "7              0                   0           0       0           1  \n",
       "8              0                   0           0       1           0  \n",
       "9              1                   0           0       0           0  "
      ]
     },
     "execution_count": 3,
     "metadata": {},
     "output_type": "execute_result"
    }
   ],
   "source": [
    "df.head(10)"
   ]
  },
  {
   "cell_type": "code",
   "execution_count": 4,
   "id": "4376c2e9",
   "metadata": {
    "colab": {
     "base_uri": "https://localhost:8080/"
    },
    "id": "4376c2e9",
    "outputId": "0eb6a3f2-a254-4e1a-f850-fc14809887ff",
    "scrolled": true
   },
   "outputs": [
    {
     "data": {
      "text/plain": [
       "ID                    0\n",
       "Age                   0\n",
       "Experience            0\n",
       "Income                0\n",
       "ZIP Code              0\n",
       "Family                0\n",
       "CCAvg                 0\n",
       "Education             0\n",
       "Mortgage              0\n",
       "Personal Loan         0\n",
       "Securities Account    0\n",
       "CD Account            0\n",
       "Online                0\n",
       "CreditCard            0\n",
       "dtype: int64"
      ]
     },
     "execution_count": 4,
     "metadata": {},
     "output_type": "execute_result"
    }
   ],
   "source": [
    "df.isnull().sum()"
   ]
  },
  {
   "cell_type": "markdown",
   "id": "b61cf2d3",
   "metadata": {
    "id": "b61cf2d3"
   },
   "source": [
    "Checked for null values. no null values. hence, we may proceed.\\\n",
    "We can drop the Id column."
   ]
  },
  {
   "cell_type": "code",
   "execution_count": 5,
   "id": "e5af4bcb",
   "metadata": {
    "id": "e5af4bcb"
   },
   "outputs": [],
   "source": [
    "df.drop(['ID'],axis=1,inplace=True)"
   ]
  },
  {
   "cell_type": "code",
   "execution_count": 6,
   "id": "f5b4e8d0",
   "metadata": {
    "colab": {
     "base_uri": "https://localhost:8080/"
    },
    "id": "f5b4e8d0",
    "outputId": "14ff20ee-ee28-4617-d03b-9673ac8e8e39"
   },
   "outputs": [
    {
     "data": {
      "text/plain": [
       "0    4520\n",
       "1     480\n",
       "Name: Personal Loan, dtype: int64"
      ]
     },
     "execution_count": 6,
     "metadata": {},
     "output_type": "execute_result"
    }
   ],
   "source": [
    "df['Personal Loan'].value_counts()"
   ]
  },
  {
   "cell_type": "markdown",
   "id": "18037872",
   "metadata": {
    "id": "18037872"
   },
   "source": [
    "We downsample the data so that we get equal division of 1 and 0 class"
   ]
  },
  {
   "cell_type": "code",
   "execution_count": 7,
   "id": "12276639",
   "metadata": {
    "id": "12276639"
   },
   "outputs": [],
   "source": [
    "one_class=df[df['Personal Loan']==1]\n",
    "zero_class=df[df['Personal Loan']==0]"
   ]
  },
  {
   "cell_type": "markdown",
   "id": "67f1c686",
   "metadata": {},
   "source": [
    "#### Upsampling"
   ]
  },
  {
   "cell_type": "code",
   "execution_count": 8,
   "id": "dcc838f3",
   "metadata": {
    "colab": {
     "base_uri": "https://localhost:8080/"
    },
    "id": "dcc838f3",
    "outputId": "df410831-6deb-4fcf-a423-e14dd773c8bf"
   },
   "outputs": [
    {
     "data": {
      "text/plain": [
       "(4520, 13)"
      ]
     },
     "execution_count": 8,
     "metadata": {},
     "output_type": "execute_result"
    }
   ],
   "source": [
    "from sklearn.utils import resample\n",
    "one_upsample=resample(one_class,\n",
    "                     replace=True,\n",
    "                     n_samples=len(zero_class),\n",
    "                     random_state=42)\n",
    "one_upsample.shape"
   ]
  },
  {
   "cell_type": "code",
   "execution_count": 9,
   "id": "68510813",
   "metadata": {},
   "outputs": [],
   "source": [
    "data1=pd.concat([one_upsample,zero_class])"
   ]
  },
  {
   "cell_type": "code",
   "execution_count": 10,
   "id": "dec1a5fa",
   "metadata": {},
   "outputs": [
    {
     "data": {
      "text/plain": [
       "(9040, 13)"
      ]
     },
     "execution_count": 10,
     "metadata": {},
     "output_type": "execute_result"
    }
   ],
   "source": [
    "data1.shape"
   ]
  },
  {
   "cell_type": "markdown",
   "id": "0e8ec6aa",
   "metadata": {},
   "source": [
    "#### Downsampling"
   ]
  },
  {
   "cell_type": "code",
   "execution_count": 11,
   "id": "763ac412",
   "metadata": {},
   "outputs": [
    {
     "data": {
      "text/plain": [
       "(480, 13)"
      ]
     },
     "execution_count": 11,
     "metadata": {},
     "output_type": "execute_result"
    }
   ],
   "source": [
    "zero_downsample = resample(zero_class,\n",
    "             replace=True,\n",
    "             n_samples=len(one_class),\n",
    "             random_state=42)\n",
    "zero_downsample.shape"
   ]
  },
  {
   "cell_type": "code",
   "execution_count": 12,
   "id": "ce66294f",
   "metadata": {
    "id": "ce66294f"
   },
   "outputs": [],
   "source": [
    "data=pd.concat([zero_downsample,one_class])"
   ]
  },
  {
   "cell_type": "code",
   "execution_count": 13,
   "id": "98ff15b0",
   "metadata": {},
   "outputs": [
    {
     "data": {
      "text/plain": [
       "(960, 13)"
      ]
     },
     "execution_count": 13,
     "metadata": {},
     "output_type": "execute_result"
    }
   ],
   "source": [
    "data.shape"
   ]
  },
  {
   "cell_type": "code",
   "execution_count": 14,
   "id": "eee3e92e",
   "metadata": {
    "colab": {
     "base_uri": "https://localhost:8080/"
    },
    "id": "eee3e92e",
    "outputId": "67cc8b27-3802-43a2-ae7e-ee91d9019981"
   },
   "outputs": [
    {
     "data": {
      "text/plain": [
       "1    4520\n",
       "0    4520\n",
       "Name: Personal Loan, dtype: int64"
      ]
     },
     "execution_count": 14,
     "metadata": {},
     "output_type": "execute_result"
    }
   ],
   "source": [
    "data1['Personal Loan'].value_counts()"
   ]
  },
  {
   "cell_type": "code",
   "execution_count": 15,
   "id": "6795cb38",
   "metadata": {
    "scrolled": false
   },
   "outputs": [
    {
     "data": {
      "text/plain": [
       "0    480\n",
       "1    480\n",
       "Name: Personal Loan, dtype: int64"
      ]
     },
     "execution_count": 15,
     "metadata": {},
     "output_type": "execute_result"
    }
   ],
   "source": [
    "data['Personal Loan'].value_counts()"
   ]
  },
  {
   "cell_type": "markdown",
   "id": "2e8f249e",
   "metadata": {},
   "source": [
    "We will use the downsampled data having 960 rows."
   ]
  },
  {
   "cell_type": "markdown",
   "id": "a8fd6445",
   "metadata": {
    "id": "a8fd6445"
   },
   "source": [
    "#### A. Neural network with 3 layers-\n",
    "- Input layer\n",
    "- Hidden layer\n",
    "- Output layer\n"
   ]
  },
  {
   "cell_type": "markdown",
   "id": "78ef5daf",
   "metadata": {
    "id": "78ef5daf"
   },
   "source": [
    "Since it is a binary classification problem, only sngle output node is enough to say if it is 0 or 1."
   ]
  },
  {
   "cell_type": "markdown",
   "id": "c00355c7",
   "metadata": {
    "id": "c00355c7"
   },
   "source": [
    "1. Input Layer- 12 nodes because of 12 features.\n",
    "2. Hidden Layer- 10 nodes\n",
    "3. Output Layer- 1 node"
   ]
  },
  {
   "cell_type": "markdown",
   "id": "46e4c85c",
   "metadata": {
    "id": "46e4c85c"
   },
   "source": [
    "Getting the input values and the output for the downsampled data"
   ]
  },
  {
   "cell_type": "code",
   "execution_count": 16,
   "id": "2dc3f103",
   "metadata": {
    "id": "2dc3f103"
   },
   "outputs": [],
   "source": [
    "X=data.drop(['Personal Loan'],axis=1).values\n",
    "Y=data['Personal Loan'].values"
   ]
  },
  {
   "cell_type": "code",
   "execution_count": 17,
   "id": "6761a220",
   "metadata": {
    "colab": {
     "base_uri": "https://localhost:8080/"
    },
    "id": "6761a220",
    "outputId": "a1d56172-8c29-412b-f0e5-abd119224768"
   },
   "outputs": [
    {
     "data": {
      "text/plain": [
       "array([[ 40.,  16.,  45., ...,   0.,   1.,   0.],\n",
       "       [ 42.,  15.,  39., ...,   0.,   0.,   0.],\n",
       "       [ 43.,  17.,  72., ...,   0.,   1.,   0.],\n",
       "       ...,\n",
       "       [ 28.,   4., 112., ...,   0.,   1.,   0.],\n",
       "       [ 46.,  20., 122., ...,   1.,   1.,   1.],\n",
       "       [ 29.,   5., 135., ...,   1.,   1.,   1.]])"
      ]
     },
     "execution_count": 17,
     "metadata": {},
     "output_type": "execute_result"
    }
   ],
   "source": [
    "X"
   ]
  },
  {
   "cell_type": "markdown",
   "id": "2bab78f4",
   "metadata": {
    "id": "2bab78f4"
   },
   "source": [
    "Note that X is an array having the values of the features.\\\n",
    "The index 0 of each of the array inside the 2D array gives the values for feature 1.\\\n",
    "The values inside one array corresponds to the values of that particular entry."
   ]
  },
  {
   "cell_type": "code",
   "execution_count": 18,
   "id": "213cad50",
   "metadata": {
    "colab": {
     "base_uri": "https://localhost:8080/"
    },
    "id": "213cad50",
    "outputId": "8771d246-d4ba-4a35-d3c8-4c53410c8ab5"
   },
   "outputs": [
    {
     "data": {
      "text/plain": [
       "(960, 12)"
      ]
     },
     "execution_count": 18,
     "metadata": {},
     "output_type": "execute_result"
    }
   ],
   "source": [
    "X.shape"
   ]
  },
  {
   "cell_type": "markdown",
   "id": "0ba41b7c",
   "metadata": {
    "id": "0ba41b7c"
   },
   "source": [
    "We will have 12 input nodes in our nerual network corresponding to each feature."
   ]
  },
  {
   "cell_type": "code",
   "execution_count": 19,
   "id": "f49d3752",
   "metadata": {
    "id": "f49d3752"
   },
   "outputs": [],
   "source": [
    "X_train,X_test, y_train, y_test = train_test_split(X, Y, test_size=0.2, random_state=42)"
   ]
  },
  {
   "cell_type": "markdown",
   "id": "f2f3d01a",
   "metadata": {},
   "source": [
    "Sclaing the data"
   ]
  },
  {
   "cell_type": "code",
   "execution_count": 20,
   "id": "c2c4ad4e",
   "metadata": {
    "id": "c2c4ad4e"
   },
   "outputs": [],
   "source": [
    "sc=StandardScaler()"
   ]
  },
  {
   "cell_type": "code",
   "execution_count": 21,
   "id": "8a474239",
   "metadata": {
    "id": "8a474239"
   },
   "outputs": [],
   "source": [
    "X_train=sc.fit_transform(X_train)\n",
    "X_test=sc.transform(X_test)"
   ]
  },
  {
   "cell_type": "markdown",
   "id": "a7ed6c20",
   "metadata": {},
   "source": [
    "Checking if the classes are equally distributed"
   ]
  },
  {
   "cell_type": "code",
   "execution_count": 22,
   "id": "06dd5428",
   "metadata": {
    "colab": {
     "base_uri": "https://localhost:8080/"
    },
    "id": "06dd5428",
    "outputId": "0a9a0fb4-859f-40a4-f19b-26579bd44216"
   },
   "outputs": [
    {
     "data": {
      "text/plain": [
       "374"
      ]
     },
     "execution_count": 22,
     "metadata": {},
     "output_type": "execute_result"
    }
   ],
   "source": [
    "list(y_train).count(1)"
   ]
  },
  {
   "cell_type": "code",
   "execution_count": 23,
   "id": "96c46207",
   "metadata": {
    "colab": {
     "base_uri": "https://localhost:8080/"
    },
    "id": "96c46207",
    "outputId": "2d9ca971-41b6-4303-ee9e-e513a8906c23"
   },
   "outputs": [
    {
     "data": {
      "text/plain": [
       "394"
      ]
     },
     "execution_count": 23,
     "metadata": {},
     "output_type": "execute_result"
    }
   ],
   "source": [
    "list(y_train).count(0)"
   ]
  },
  {
   "cell_type": "markdown",
   "id": "0a3deeb7",
   "metadata": {
    "id": "0a3deeb7"
   },
   "source": [
    "### Network Architecture"
   ]
  },
  {
   "cell_type": "markdown",
   "id": "8515345c",
   "metadata": {
    "id": "8515345c"
   },
   "source": [
    "Since we have 12 nodes in input layer and 10 nodes in hidden layer, we will need 10 x 12 = 120 weights and 10 biases\\\n",
    "And since we have 10 nodes in hidden layer and 1 node in output layer, we need 10 weights and 1 bias"
   ]
  },
  {
   "cell_type": "code",
   "execution_count": 24,
   "id": "8f3e173a",
   "metadata": {
    "id": "8f3e173a"
   },
   "outputs": [],
   "source": [
    "input_layer = X_train.shape[1]\n",
    "hidden_layer = 1\n",
    "output_layer = 1"
   ]
  },
  {
   "cell_type": "markdown",
   "id": "37a04871",
   "metadata": {},
   "source": [
    "### Activation Functions"
   ]
  },
  {
   "cell_type": "code",
   "execution_count": 25,
   "id": "56058e3a",
   "metadata": {
    "id": "56058e3a"
   },
   "outputs": [],
   "source": [
    "def sigmoid(x):\n",
    "    return 1/(1 + np.exp(-x))"
   ]
  },
  {
   "cell_type": "code",
   "execution_count": 26,
   "id": "5e881df8",
   "metadata": {
    "id": "5e881df8"
   },
   "outputs": [],
   "source": [
    "def tanh(x):\n",
    "    return (np.exp(x) - np.exp(-x)) / (np.exp(x) + np.exp(-x))"
   ]
  },
  {
   "cell_type": "code",
   "execution_count": 27,
   "id": "eb09b3d6",
   "metadata": {},
   "outputs": [],
   "source": [
    "def relu(x):\n",
    "    return np.maximum(0, x)"
   ]
  },
  {
   "cell_type": "markdown",
   "id": "a8f295bc",
   "metadata": {
    "id": "a8f295bc"
   },
   "source": [
    "## Taking a Genetic Algorithm approach"
   ]
  },
  {
   "cell_type": "markdown",
   "id": "052bdabd",
   "metadata": {
    "id": "052bdabd"
   },
   "source": [
    "We must have a popultion with weights as chromosome.\\\n",
    "Since we have two weight matrices, we will combine and flatten it to 1D array which will act as a chromosome.\\\n",
    "so **(10 x 12) + 10 + (1 x 10) + 1 = 141 weights** \\\n",
    "This will them be selected, crossover, mutated etc.\n",
    "\n",
    "Let us have 20 solution/chromosomes in the population"
   ]
  },
  {
   "cell_type": "code",
   "execution_count": 28,
   "id": "a5a7ec9d",
   "metadata": {},
   "outputs": [],
   "source": [
    "np.random.seed(0)"
   ]
  },
  {
   "cell_type": "code",
   "execution_count": 29,
   "id": "cc442aed",
   "metadata": {
    "id": "cc442aed"
   },
   "outputs": [],
   "source": [
    "chromosomes=30\n",
    "genes=input_layer*hidden_layer+hidden_layer+hidden_layer*output_layer+output_layer"
   ]
  },
  {
   "cell_type": "code",
   "execution_count": 30,
   "id": "50311c67",
   "metadata": {
    "id": "50311c67"
   },
   "outputs": [],
   "source": [
    "pop_size=(chromosomes,genes)\n",
    "\n",
    "#generated random numbers between 0 and 1 \n",
    "population=np.random.rand(chromosomes,genes)\n",
    "\n",
    "#makes to 0 and 1 interval to -1 to 1\n",
    "population=2*population-1"
   ]
  },
  {
   "cell_type": "code",
   "execution_count": 31,
   "id": "e236cb73",
   "metadata": {
    "colab": {
     "base_uri": "https://localhost:8080/"
    },
    "id": "e236cb73",
    "outputId": "f4f79631-c0f9-4f9c-b1f4-d299503e3b5c"
   },
   "outputs": [
    {
     "data": {
      "text/plain": [
       "array([[ 0.09762701,  0.43037873,  0.20552675,  0.08976637, -0.1526904 ,\n",
       "         0.29178823, -0.12482558,  0.783546  ,  0.92732552, -0.23311696,\n",
       "         0.58345008,  0.05778984,  0.13608912,  0.85119328, -0.85792788]])"
      ]
     },
     "execution_count": 31,
     "metadata": {},
     "output_type": "execute_result"
    }
   ],
   "source": [
    "population[:1]"
   ]
  },
  {
   "cell_type": "code",
   "execution_count": 32,
   "id": "a278cb61",
   "metadata": {
    "id": "a278cb61"
   },
   "outputs": [],
   "source": [
    "equation_inputs=X_train"
   ]
  },
  {
   "cell_type": "markdown",
   "id": "114bef3a",
   "metadata": {
    "id": "114bef3a"
   },
   "source": [
    "### Forward Propagation"
   ]
  },
  {
   "cell_type": "code",
   "execution_count": 33,
   "id": "4b4e4e1f",
   "metadata": {
    "id": "07a423a9"
   },
   "outputs": [],
   "source": [
    "def forward(inputs,weights):\n",
    "    \n",
    "    #reshaping the weights\n",
    "    weight1=np.reshape(weights[:hidden_layer*input_layer],(hidden_layer,input_layer))\n",
    "    bias1=np.reshape(weights[hidden_layer*input_layer:hidden_layer*input_layer+hidden_layer],(output_layer,hidden_layer))\n",
    "    weight2=np.reshape(weights[hidden_layer*input_layer+hidden_layer:-1],(output_layer,hidden_layer))\n",
    "    bias2=np.reshape(weights[-1],(output_layer,output_layer))\n",
    "    \n",
    "    #input layer\n",
    "    A0=inputs\n",
    "    \n",
    "    #hidden layer\n",
    "    Z1=inputs.dot(weight1.T)+bias1\n",
    "    A1=relu(Z1)\n",
    "    \n",
    "    #output layer\n",
    "    Z2=A1.dot(weight2.T)+bias2\n",
    "    A2=sigmoid(Z2)\n",
    "    \n",
    "    #rounding predictions to 0 , 1\n",
    "    y_pred=np.round(A2)\n",
    "    \n",
    "    return y_pred"
   ]
  },
  {
   "cell_type": "markdown",
   "id": "bffde3be",
   "metadata": {},
   "source": [
    "Checking the first set of solutions in the population and forward propagating it"
   ]
  },
  {
   "cell_type": "code",
   "execution_count": 34,
   "id": "869120e7",
   "metadata": {
    "colab": {
     "base_uri": "https://localhost:8080/"
    },
    "id": "869120e7",
    "outputId": "d1d1a248-8199-4a42-e3dc-8b9a8ac5ae46"
   },
   "outputs": [
    {
     "data": {
      "text/plain": [
       "590"
      ]
     },
     "execution_count": 34,
     "metadata": {},
     "output_type": "execute_result"
    }
   ],
   "source": [
    "list(forward(X_train,population[0])).count(0)"
   ]
  },
  {
   "cell_type": "code",
   "execution_count": 35,
   "id": "0c386b52",
   "metadata": {},
   "outputs": [
    {
     "data": {
      "text/plain": [
       "178"
      ]
     },
     "execution_count": 35,
     "metadata": {},
     "output_type": "execute_result"
    }
   ],
   "source": [
    "list(forward(X_train,population[0])).count(1)"
   ]
  },
  {
   "cell_type": "code",
   "execution_count": 36,
   "id": "921fd527",
   "metadata": {},
   "outputs": [
    {
     "data": {
      "text/plain": [
       "0.4635416666666667"
      ]
     },
     "execution_count": 36,
     "metadata": {},
     "output_type": "execute_result"
    }
   ],
   "source": [
    "accuracy_score(y_train,forward(X_train,population[2]))"
   ]
  },
  {
   "cell_type": "markdown",
   "id": "78acaf4e",
   "metadata": {},
   "source": [
    "The fitness function here calulates the accuracy for the corresponding weights.\\\n",
    "And we try to maximise this fitness value"
   ]
  },
  {
   "cell_type": "code",
   "execution_count": 37,
   "id": "5aa1ee28",
   "metadata": {
    "id": "5aa1ee28"
   },
   "outputs": [],
   "source": [
    "def fitness_function(inputs,population,y_train):\n",
    "    fitness=[]\n",
    "    \n",
    "    for weights in population:\n",
    "        y_pred=forward(inputs,weights)\n",
    "        \n",
    "        acc=accuracy_score(y_train,y_pred)\n",
    "        \n",
    "        fitness.append(acc)\n",
    "        \n",
    "    return fitness"
   ]
  },
  {
   "cell_type": "code",
   "execution_count": 38,
   "id": "cd35c6bc",
   "metadata": {
    "colab": {
     "base_uri": "https://localhost:8080/"
    },
    "id": "46a7b964",
    "outputId": "c745b256-7e31-4a68-bdd9-06cfc7af8f77"
   },
   "outputs": [
    {
     "data": {
      "text/plain": [
       "[0.5989583333333334,\n",
       " 0.5963541666666666,\n",
       " 0.4635416666666667,\n",
       " 0.5130208333333334,\n",
       " 0.4869791666666667,\n",
       " 0.4869791666666667,\n",
       " 0.22526041666666666,\n",
       " 0.4869791666666667,\n",
       " 0.4635416666666667,\n",
       " 0.4869791666666667,\n",
       " 0.4869791666666667,\n",
       " 0.4270833333333333,\n",
       " 0.4869791666666667,\n",
       " 0.4869791666666667,\n",
       " 0.5989583333333334,\n",
       " 0.6575520833333334,\n",
       " 0.4869791666666667,\n",
       " 0.5130208333333334,\n",
       " 0.5130208333333334,\n",
       " 0.4869791666666667,\n",
       " 0.6484375,\n",
       " 0.5130208333333334,\n",
       " 0.6197916666666666,\n",
       " 0.4869791666666667,\n",
       " 0.5572916666666666,\n",
       " 0.7083333333333334,\n",
       " 0.4869791666666667,\n",
       " 0.6901041666666666,\n",
       " 0.4869791666666667,\n",
       " 0.4869791666666667]"
      ]
     },
     "execution_count": 38,
     "metadata": {},
     "output_type": "execute_result"
    }
   ],
   "source": [
    "fitness_function(equation_inputs,population,y_train)"
   ]
  },
  {
   "cell_type": "markdown",
   "id": "d63e344e",
   "metadata": {},
   "source": [
    "The select_parents function selects the best performing individuals from a population as parents for the next generation. It does so by repeatedly selecting the individual with the highest fitness until the desired number of parents is reached."
   ]
  },
  {
   "cell_type": "code",
   "execution_count": 39,
   "id": "d0a19da9",
   "metadata": {
    "id": "9b8568f8"
   },
   "outputs": [],
   "source": [
    "def select_parents(population,fitness,mating_parents):\n",
    "    \n",
    "    parents=np.zeros((mating_parents,population.shape[1]))\n",
    "    \n",
    "    for parent_num in range(mating_parents):\n",
    "        \n",
    "        max_fitness_index=np.where(fitness==np.max(fitness))\n",
    "        max_fitness_index=max_fitness_index[0][0]\n",
    "        parents[parent_num,:]=population[max_fitness_index,:]\n",
    "        fitness[max_fitness_index]=-999999\n",
    "        \n",
    "    return parents\n",
    "    "
   ]
  },
  {
   "cell_type": "code",
   "execution_count": 40,
   "id": "9fa6edb1",
   "metadata": {},
   "outputs": [],
   "source": [
    "def crossover(parents, offspring_size, crossover_rate):\n",
    "    \n",
    "    offspring = np.empty(offspring_size)\n",
    "\n",
    "    crossover_point = np.uint8(offspring_size[1] / 2)\n",
    "\n",
    "    for k in range(offspring_size[0]):\n",
    "        parent1_index = k % parents.shape[0]\n",
    "        parent2_index = (k + 1) % parents.shape[0]\n",
    "\n",
    "        # Generate a random number between 0 and 1\n",
    "        r = np.random.rand()\n",
    "\n",
    "        # If random number is less than crossover rate, perform crossover\n",
    "        if r < crossover_rate:\n",
    "            offspring[k, 0:crossover_point] = parents[parent1_index, 0:crossover_point]\n",
    "            offspring[k, crossover_point:] = parents[parent2_index, crossover_point:]\n",
    "        else:\n",
    "            offspring[k, :] = parents[parent1_index, :]\n",
    "\n",
    "    return offspring"
   ]
  },
  {
   "cell_type": "code",
   "execution_count": 41,
   "id": "81124692",
   "metadata": {},
   "outputs": [],
   "source": [
    "def mutation(offspring_crossover, mutation_rate):\n",
    "    \n",
    "    # determine how many individuals to mutate based on mutation rate\n",
    "    num_mutations = int(offspring_crossover.shape[0] * mutation_rate)\n",
    "    \n",
    "    # randomly select individuals to mutate\n",
    "    mutation_indices = np.random.choice(offspring_crossover.shape[0], num_mutations, replace=False)\n",
    "    \n",
    "    # apply mutation to selected individuals\n",
    "    for i in mutation_indices:\n",
    "        offspring_crossover[i, 4] += np.random.uniform(-1, 1)\n",
    "        \n",
    "    return offspring_crossover"
   ]
  },
  {
   "cell_type": "code",
   "execution_count": 42,
   "id": "9277064d",
   "metadata": {
    "id": "9277064d"
   },
   "outputs": [],
   "source": [
    "generations=15\n",
    "mating_parents=8"
   ]
  },
  {
   "cell_type": "code",
   "execution_count": 43,
   "id": "cf31070f",
   "metadata": {
    "scrolled": true
   },
   "outputs": [
    {
     "name": "stdout",
     "output_type": "stream",
     "text": [
      "Generation : 0\n",
      "best result after 0 : 75.91\n",
      "Generation : 1\n",
      "best result after 1 : 75.91\n",
      "Generation : 2\n",
      "best result after 2 : 75.91\n",
      "Generation : 3\n",
      "best result after 3 : 76.3\n",
      "Generation : 4\n",
      "best result after 4 : 77.08\n",
      "Generation : 5\n",
      "best result after 5 : 77.08\n",
      "Generation : 6\n",
      "best result after 6 : 77.08\n",
      "Generation : 7\n",
      "best result after 7 : 77.08\n",
      "Generation : 8\n",
      "best result after 8 : 77.08\n",
      "Generation : 9\n",
      "best result after 9 : 77.08\n",
      "Generation : 10\n",
      "best result after 10 : 77.08\n",
      "Generation : 11\n",
      "best result after 11 : 77.08\n",
      "Generation : 12\n",
      "best result after 12 : 77.08\n",
      "Generation : 13\n",
      "best result after 13 : 77.08\n",
      "Generation : 14\n",
      "best result after 14 : 77.08\n",
      "Best solution fitness :  0.7708333333333334\n"
     ]
    }
   ],
   "source": [
    "# initialize a list to store the best fitness for each generation\n",
    "best_fitness = []\n",
    "\n",
    "for generation in range(generations):\n",
    "\n",
    "    # the fitness of each chromosome in the population\n",
    "    fitness=fitness_function(equation_inputs,population,y_train)\n",
    "\n",
    "    # selecting the best parents for mating\n",
    "    parents=select_parents(population,fitness,mating_parents)\n",
    "\n",
    "    # generating the next generation using crossover\n",
    "    offspring_crossover=crossover(parents,offspring_size=(pop_size[0]-parents.shape[0],genes),crossover_rate=0.85)\n",
    "\n",
    "    # adding variation to the offsprings\n",
    "    offspring_mutation=mutation(offspring_crossover,0.3)\n",
    "\n",
    "    # creating new population   \n",
    "    population[0:parents.shape[0],:]=parents\n",
    "    population[parents.shape[0]:,:]=offspring_mutation\n",
    "\n",
    "    fitness=fitness_function(equation_inputs,population,y_train)\n",
    "    best_match_index=np.where(fitness==np.max(fitness))\n",
    "\n",
    "    # append the best fitness to the list\n",
    "    best_fitness.append(fitness[best_match_index[0][0]])\n",
    "\n",
    "    print(f\"Generation : {generation}\\n\\\n",
    "best result after {generation} : {np.round(fitness[best_match_index[0][0]]*100,2)}\")\n",
    "\n",
    "fitness=fitness_function(equation_inputs,population,y_train)\n",
    "best_match_index=np.where(fitness==np.max(fitness))\n",
    "\n",
    "print(\"Best solution fitness : \", fitness[best_match_index[0][0]])\n"
   ]
  },
  {
   "cell_type": "code",
   "execution_count": 44,
   "id": "1bbd8749",
   "metadata": {},
   "outputs": [
    {
     "data": {
      "image/png": "[encoded data removed]",
      "text/plain": [
       "<Figure size 640x480 with 1 Axes>"
      ]
     },
     "metadata": {},
     "output_type": "display_data"
    }
   ],
   "source": [
    "\n",
    "# plot the best fitness for each generation\n",
    "import matplotlib.pyplot as plt\n",
    "plt.plot(best_fitness)\n",
    "plt.xlabel('Generation')\n",
    "plt.ylabel('Fitness')\n",
    "plt.title('Best Fitness Convergence')\n",
    "plt.show()"
   ]
  },
  {
   "cell_type": "markdown",
   "id": "a049e26d",
   "metadata": {},
   "source": [
    "Predictions for the training data with the best weights"
   ]
  },
  {
   "cell_type": "code",
   "execution_count": 45,
   "id": "077cd586",
   "metadata": {
    "id": "077cd586"
   },
   "outputs": [],
   "source": [
    "pred=forward(X_train,population[best_match_index[0][0],:])"
   ]
  },
  {
   "cell_type": "code",
   "execution_count": 46,
   "id": "c66ba64a",
   "metadata": {
    "colab": {
     "base_uri": "https://localhost:8080/"
    },
    "id": "c66ba64a",
    "outputId": "1cc0f4e6-8d64-455b-c521-b36195ad8840",
    "scrolled": false
   },
   "outputs": [
    {
     "name": "stdout",
     "output_type": "stream",
     "text": [
      "              precision    recall  f1-score   support\n",
      "\n",
      "           0       0.79      0.76      0.77       394\n",
      "           1       0.76      0.78      0.77       374\n",
      "\n",
      "    accuracy                           0.77       768\n",
      "   macro avg       0.77      0.77      0.77       768\n",
      "weighted avg       0.77      0.77      0.77       768\n",
      "\n"
     ]
    }
   ],
   "source": [
    "print(classification_report(y_train,list(pred)))"
   ]
  },
  {
   "cell_type": "code",
   "execution_count": 47,
   "id": "428cb9ef",
   "metadata": {
    "colab": {
     "base_uri": "https://localhost:8080/"
    },
    "id": "428cb9ef",
    "outputId": "e5db20a6-4f2a-4375-de24-3d424d12c490"
   },
   "outputs": [
    {
     "data": {
      "text/plain": [
       "0.7708333333333334"
      ]
     },
     "execution_count": 47,
     "metadata": {},
     "output_type": "execute_result"
    }
   ],
   "source": [
    "accuracy_score(y_train,pred)"
   ]
  },
  {
   "cell_type": "code",
   "execution_count": 48,
   "id": "deef2121",
   "metadata": {
    "colab": {
     "base_uri": "https://localhost:8080/"
    },
    "id": "deef2121",
    "outputId": "d26f2878-7f2c-44da-ff81-261ee607ca26"
   },
   "outputs": [
    {
     "name": "stdout",
     "output_type": "stream",
     "text": [
      "[[299  95]\n",
      " [ 81 293]]\n"
     ]
    }
   ],
   "source": [
    "print(confusion_matrix(y_train,pred))"
   ]
  },
  {
   "cell_type": "markdown",
   "id": "5b871ca7",
   "metadata": {},
   "source": [
    "Predictions for the test data with the best weights"
   ]
  },
  {
   "cell_type": "code",
   "execution_count": 49,
   "id": "b8fffdae",
   "metadata": {
    "id": "b8fffdae"
   },
   "outputs": [],
   "source": [
    "test_pred=forward(X_test,population[best_match_index[0][0],:])"
   ]
  },
  {
   "cell_type": "code",
   "execution_count": 50,
   "id": "fb481f65",
   "metadata": {
    "colab": {
     "base_uri": "https://localhost:8080/"
    },
    "id": "fb481f65",
    "outputId": "b44299c9-fbf9-4da1-91db-5f6591a3fda6"
   },
   "outputs": [
    {
     "data": {
      "text/plain": [
       "0.78125"
      ]
     },
     "execution_count": 50,
     "metadata": {},
     "output_type": "execute_result"
    }
   ],
   "source": [
    "accuracy_score(y_test,test_pred)"
   ]
  },
  {
   "cell_type": "code",
   "execution_count": 51,
   "id": "11ce2953",
   "metadata": {
    "colab": {
     "base_uri": "https://localhost:8080/"
    },
    "id": "11ce2953",
    "outputId": "26b8e79e-1747-40ff-a21d-c2a191111a00"
   },
   "outputs": [
    {
     "name": "stdout",
     "output_type": "stream",
     "text": [
      "              precision    recall  f1-score   support\n",
      "\n",
      "           0       0.73      0.80      0.77        86\n",
      "           1       0.83      0.76      0.79       106\n",
      "\n",
      "    accuracy                           0.78       192\n",
      "   macro avg       0.78      0.78      0.78       192\n",
      "weighted avg       0.79      0.78      0.78       192\n",
      "\n"
     ]
    }
   ],
   "source": [
    "print(classification_report(y_test,list(test_pred)))"
   ]
  },
  {
   "cell_type": "code",
   "execution_count": 52,
   "id": "c83977ee",
   "metadata": {
    "colab": {
     "base_uri": "https://localhost:8080/"
    },
    "id": "c83977ee",
    "outputId": "2ca47841-12fe-4f9f-c5b1-e6787126dceb"
   },
   "outputs": [
    {
     "name": "stdout",
     "output_type": "stream",
     "text": [
      "[[69 17]\n",
      " [25 81]]\n"
     ]
    }
   ],
   "source": [
    "print(confusion_matrix(y_test,test_pred))"
   ]
  },
  {
   "cell_type": "markdown",
   "id": "c2d78cbb",
   "metadata": {},
   "source": [
    "## Results"
   ]
  },
  {
   "cell_type": "markdown",
   "id": "742dc6d9",
   "metadata": {},
   "source": [
    "| Activation Function | Hidden Layer | Chromosomes | Generations | Mating Parents | Test Accuracy | Convergence Generation |\n",
    "|---------------------|--------------|-------------|-------------|----------------|---------------|------------------------|\n",
    "| Sigmoid             | 7            | 40          | 25          | 10             | 0.7396        | 8th                    |\n",
    "| Sigmoid             | 10           | 40          | 25          | 10             | 0.6510        | 10th                   |\n",
    "| Sigmoid             | 10           | 40          | 30          | 10             | 0.7448        | 7th                    |\n",
    "| None                | 10           | 30          | 20          | 10             | 0.7812        | 13th                   |\n",
    "| ReLU                | 10           | 30          | 20          | 10             | 0.7760        | 10th                   |\n",
    "| Tanh                | 10           | 30          | 20          | 10             | 0.7292        | 12th                   |\n"
   ]
  },
  {
   "cell_type": "markdown",
   "id": "093a3e76",
   "metadata": {},
   "source": [
    "### Assumptions\n",
    "    - mating parents : 10\n",
    "    - crossover rate : 0.85\n",
    "    - mutation rate : 0.3"
   ]
  },
  {
   "cell_type": "markdown",
   "id": "c16d3992",
   "metadata": {},
   "source": [
    "## Conclusions"
   ]
  },
  {
   "cell_type": "markdown",
   "id": "583e98c5",
   "metadata": {},
   "source": [
    "- The choice of activation function can have an impact on the performance of the genetic algorithm optimized neural network.\n",
    "- In this case, Best accuracy is achieved when there is no activation function associated with hidden layer.\n",
    "- The choice of hyperparameters is crucial to obtain good results."
   ]
  },
  {
   "cell_type": "code",
   "execution_count": null,
   "id": "d1047f68",
   "metadata": {},
   "outputs": [],
   "source": []
  }
 ],
 "metadata": {
  "colab": {
   "provenance": []
  },
  "kernelspec": {
   "display_name": "Python 3 (ipykernel)",
   "language": "python",
   "name": "python3"
  },
  "language_info": {
   "codemirror_mode": {
    "name": "ipython",
    "version": 3
   },
   "file_extension": ".py",
   "mimetype": "text/x-python",
   "name": "python",
   "nbconvert_exporter": "python",
   "pygments_lexer": "ipython3",
   "version": "3.10.7"
  }
 },
 "nbformat": 4,
 "nbformat_minor": 5
}
